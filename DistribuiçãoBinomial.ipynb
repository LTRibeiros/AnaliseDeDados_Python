{
  "nbformat": 4,
  "nbformat_minor": 0,
  "metadata": {
    "colab": {
      "provenance": [],
      "mount_file_id": "1W0HiTxGm4aF9-7Ql-T1gdDAuw7LzAo4S",
      "authorship_tag": "ABX9TyOgI+T3MNPv/x2qdA5h6Gc5",
      "include_colab_link": true
    },
    "kernelspec": {
      "name": "python3",
      "display_name": "Python 3"
    },
    "language_info": {
      "name": "python"
    }
  },
  "cells": [
    {
      "cell_type": "markdown",
      "metadata": {
        "id": "view-in-github",
        "colab_type": "text"
      },
      "source": [
        "<a href=\"https://colab.research.google.com/github/LTRibeiros/AnaliseDeDados_Python/blob/main/Distribui%C3%A7%C3%A3oBinomial.ipynb\" target=\"_parent\"><img src=\"https://colab.research.google.com/assets/colab-badge.svg\" alt=\"Open In Colab\"/></a>"
      ]
    },
    {
      "cell_type": "code",
      "execution_count": 65,
      "metadata": {
        "id": "SHCwONo_4q3S"
      },
      "outputs": [],
      "source": [
        "import pandas as pd\n",
        "import numpy as np"
      ]
    },
    {
      "cell_type": "markdown",
      "source": [
        "#Distribuição Binomial"
      ],
      "metadata": {
        "id": "av4xHY75f1c1"
      }
    },
    {
      "cell_type": "code",
      "source": [
        "from scipy.stats import binom"
      ],
      "metadata": {
        "id": "W4krthLef6Tt"
      },
      "execution_count": 84,
      "outputs": []
    },
    {
      "cell_type": "code",
      "source": [
        "cara = 1/2\n",
        "coroa = 1/2\n",
        "\n",
        "moeda = cara + coroa"
      ],
      "metadata": {
        "id": "v5mvaDi2hFAl"
      },
      "execution_count": 103,
      "outputs": []
    },
    {
      "cell_type": "markdown",
      "source": [
        "binom.pmf(4, 10, probabilidade_mulher) * 100 exatamente o valor <br>\n",
        "primeiro - valor ou limite <br>\n",
        "segundo - numero de tentativas <br>\n",
        "terceiro - probabilidade de sucesso"
      ],
      "metadata": {
        "id": "5IfVNzeDgnJV"
      }
    },
    {
      "cell_type": "code",
      "source": [
        "chance_cara = binom.cdf(5,10, cara)\n",
        "chance_cara * 100\n",
        "\n",
        "#chance cara"
      ],
      "metadata": {
        "id": "ZcascWiWgr8V",
        "outputId": "e3fa2a01-b423-4bb5-cdb4-146f88724613",
        "colab": {
          "base_uri": "https://localhost:8080/"
        }
      },
      "execution_count": 141,
      "outputs": [
        {
          "output_type": "execute_result",
          "data": {
            "text/plain": [
              "np.float64(62.3046875)"
            ]
          },
          "metadata": {},
          "execution_count": 141
        }
      ]
    },
    {
      "cell_type": "code",
      "source": [
        "chance_coroa = moeda - chance_cara\n",
        "chance_coroa * 100\n",
        "\n",
        "#chance coroa = chance cara - Espaço amostral"
      ],
      "metadata": {
        "id": "YvHgJA-VjUXl",
        "outputId": "56d77e06-f4ef-45b7-c67b-c3091f9ff7e3",
        "colab": {
          "base_uri": "https://localhost:8080/"
        }
      },
      "execution_count": 142,
      "outputs": [
        {
          "output_type": "execute_result",
          "data": {
            "text/plain": [
              "np.float64(37.6953125)"
            ]
          },
          "metadata": {},
          "execution_count": 142
        }
      ]
    },
    {
      "cell_type": "code",
      "source": [
        "chance_cara + chance_coroa #total = 1"
      ],
      "metadata": {
        "id": "QqPrEArqjkl9",
        "outputId": "fe9cb93c-a36d-4a1d-f5e1-dde23de82a02",
        "colab": {
          "base_uri": "https://localhost:8080/"
        }
      },
      "execution_count": 143,
      "outputs": [
        {
          "output_type": "execute_result",
          "data": {
            "text/plain": [
              "np.float64(1.0)"
            ]
          },
          "metadata": {},
          "execution_count": 143
        }
      ]
    }
  ]
}