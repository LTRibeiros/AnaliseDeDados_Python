{
  "nbformat": 4,
  "nbformat_minor": 0,
  "metadata": {
    "colab": {
      "provenance": [],
      "include_colab_link": true
    },
    "kernelspec": {
      "name": "python3",
      "display_name": "Python 3"
    },
    "language_info": {
      "name": "python"
    }
  },
  "cells": [
    {
      "cell_type": "markdown",
      "metadata": {
        "id": "view-in-github",
        "colab_type": "text"
      },
      "source": [
        "<a href=\"https://colab.research.google.com/github/LTRibeiros/AnaliseDeDados_Python/blob/main/teste_uma_amostra.ipynb\" target=\"_parent\"><img src=\"https://colab.research.google.com/assets/colab-badge.svg\" alt=\"Open In Colab\"/></a>"
      ]
    },
    {
      "cell_type": "markdown",
      "metadata": {
        "id": "Qt6NFwxO68nL"
      },
      "source": [
        "## **TESTE PARA UMA AMOSTRA**"
      ]
    },
    {
      "cell_type": "code",
      "metadata": {
        "id": "P1k_GEUd62ik"
      },
      "source": [
        "import numpy as np\n",
        "import pandas as pd"
      ],
      "execution_count": 1,
      "outputs": []
    },
    {
      "cell_type": "code",
      "metadata": {
        "id": "DzMEX3BJoN3u"
      },
      "source": [
        "enem_sp = pd.read_csv('/content/drive/MyDrive/enem_2019_tratado.csv',\n",
        "                      sep=',', encoding='iso-8859-1')"
      ],
      "execution_count": 5,
      "outputs": []
    },
    {
      "cell_type": "code",
      "source": [
        "from google.colab import drive\n",
        "drive.mount('/content/drive')"
      ],
      "metadata": {
        "colab": {
          "base_uri": "https://localhost:8080/"
        },
        "id": "StV_GXiyY0hj",
        "outputId": "4186ecf0-c277-4e50-bb2c-98d98f37ff9c"
      },
      "execution_count": 4,
      "outputs": [
        {
          "output_type": "stream",
          "name": "stdout",
          "text": [
            "Mounted at /content/drive\n"
          ]
        }
      ]
    },
    {
      "cell_type": "code",
      "metadata": {
        "id": "87gu1YCcblfL",
        "colab": {
          "base_uri": "https://localhost:8080/",
          "height": 255
        },
        "outputId": "c3393e3c-4d22-43f6-c7a5-f79a79fd2938"
      },
      "source": [
        "enem_sp.head()"
      ],
      "execution_count": 6,
      "outputs": [
        {
          "output_type": "execute_result",
          "data": {
            "text/plain": [
              "  NU_INSCRICAO NO_MUNICIPIO_RESIDENCIA  IDADE SEXO  TP_ESTADO_CIVIL    RACA  \\\n",
              "0     1,90E+11            Santa Isabel     22    M                1   parda   \n",
              "1     1,90E+11               São Paulo     17    F                1   parda   \n",
              "2     1,90E+11   São Bernardo do Campo     19    M                1   parda   \n",
              "3     1,90E+11              Embu-Guaçu     17    F                1   parda   \n",
              "4     1,90E+11               Guarulhos     23    F                1  branca   \n",
              "\n",
              "   TP_NACIONALIDADE  TP_ST_CONCLUSAO         ESCOLA   CO_ESCOLA  ... NOTA_MT  \\\n",
              "0                 1                1  não_respondeu         NaN  ...   600.2   \n",
              "1                 1                2        privada  15567761.0  ...   731.8   \n",
              "2                 1                2        pública  35904958.0  ...   393.2   \n",
              "3                 1                2        pública         NaN  ...   419.2   \n",
              "4                 1                1  não_respondeu         NaN  ...   796.1   \n",
              "\n",
              "   TP_LINGUA  TP_STATUS_REDACAO  COMP1  COMP2  COMP3  COMP4  COMP5  \\\n",
              "0     Inglês                1.0  160.0  200.0  180.0  200.0  200.0   \n",
              "1     Inglês                1.0  160.0  120.0  200.0  200.0  200.0   \n",
              "2   Espanhol                1.0   80.0  160.0  120.0  100.0  100.0   \n",
              "3     Inglês                1.0  120.0  120.0  120.0  120.0   80.0   \n",
              "4     Inglês                1.0  160.0  200.0  180.0  180.0  160.0   \n",
              "\n",
              "   NOTA_REDACAO INTERNET  \n",
              "0         940.0      Sim  \n",
              "1         880.0      Não  \n",
              "2         560.0      Sim  \n",
              "3         560.0      Sim  \n",
              "4         880.0      Sim  \n",
              "\n",
              "[5 rows x 28 columns]"
            ],
            "text/html": [
              "\n",
              "  <div id=\"df-4f998dee-d327-4765-a963-ef2fd431d2fc\" class=\"colab-df-container\">\n",
              "    <div>\n",
              "<style scoped>\n",
              "    .dataframe tbody tr th:only-of-type {\n",
              "        vertical-align: middle;\n",
              "    }\n",
              "\n",
              "    .dataframe tbody tr th {\n",
              "        vertical-align: top;\n",
              "    }\n",
              "\n",
              "    .dataframe thead th {\n",
              "        text-align: right;\n",
              "    }\n",
              "</style>\n",
              "<table border=\"1\" class=\"dataframe\">\n",
              "  <thead>\n",
              "    <tr style=\"text-align: right;\">\n",
              "      <th></th>\n",
              "      <th>NU_INSCRICAO</th>\n",
              "      <th>NO_MUNICIPIO_RESIDENCIA</th>\n",
              "      <th>IDADE</th>\n",
              "      <th>SEXO</th>\n",
              "      <th>TP_ESTADO_CIVIL</th>\n",
              "      <th>RACA</th>\n",
              "      <th>TP_NACIONALIDADE</th>\n",
              "      <th>TP_ST_CONCLUSAO</th>\n",
              "      <th>ESCOLA</th>\n",
              "      <th>CO_ESCOLA</th>\n",
              "      <th>...</th>\n",
              "      <th>NOTA_MT</th>\n",
              "      <th>TP_LINGUA</th>\n",
              "      <th>TP_STATUS_REDACAO</th>\n",
              "      <th>COMP1</th>\n",
              "      <th>COMP2</th>\n",
              "      <th>COMP3</th>\n",
              "      <th>COMP4</th>\n",
              "      <th>COMP5</th>\n",
              "      <th>NOTA_REDACAO</th>\n",
              "      <th>INTERNET</th>\n",
              "    </tr>\n",
              "  </thead>\n",
              "  <tbody>\n",
              "    <tr>\n",
              "      <th>0</th>\n",
              "      <td>1,90E+11</td>\n",
              "      <td>Santa Isabel</td>\n",
              "      <td>22</td>\n",
              "      <td>M</td>\n",
              "      <td>1</td>\n",
              "      <td>parda</td>\n",
              "      <td>1</td>\n",
              "      <td>1</td>\n",
              "      <td>não_respondeu</td>\n",
              "      <td>NaN</td>\n",
              "      <td>...</td>\n",
              "      <td>600.2</td>\n",
              "      <td>Inglês</td>\n",
              "      <td>1.0</td>\n",
              "      <td>160.0</td>\n",
              "      <td>200.0</td>\n",
              "      <td>180.0</td>\n",
              "      <td>200.0</td>\n",
              "      <td>200.0</td>\n",
              "      <td>940.0</td>\n",
              "      <td>Sim</td>\n",
              "    </tr>\n",
              "    <tr>\n",
              "      <th>1</th>\n",
              "      <td>1,90E+11</td>\n",
              "      <td>São Paulo</td>\n",
              "      <td>17</td>\n",
              "      <td>F</td>\n",
              "      <td>1</td>\n",
              "      <td>parda</td>\n",
              "      <td>1</td>\n",
              "      <td>2</td>\n",
              "      <td>privada</td>\n",
              "      <td>15567761.0</td>\n",
              "      <td>...</td>\n",
              "      <td>731.8</td>\n",
              "      <td>Inglês</td>\n",
              "      <td>1.0</td>\n",
              "      <td>160.0</td>\n",
              "      <td>120.0</td>\n",
              "      <td>200.0</td>\n",
              "      <td>200.0</td>\n",
              "      <td>200.0</td>\n",
              "      <td>880.0</td>\n",
              "      <td>Não</td>\n",
              "    </tr>\n",
              "    <tr>\n",
              "      <th>2</th>\n",
              "      <td>1,90E+11</td>\n",
              "      <td>São Bernardo do Campo</td>\n",
              "      <td>19</td>\n",
              "      <td>M</td>\n",
              "      <td>1</td>\n",
              "      <td>parda</td>\n",
              "      <td>1</td>\n",
              "      <td>2</td>\n",
              "      <td>pública</td>\n",
              "      <td>35904958.0</td>\n",
              "      <td>...</td>\n",
              "      <td>393.2</td>\n",
              "      <td>Espanhol</td>\n",
              "      <td>1.0</td>\n",
              "      <td>80.0</td>\n",
              "      <td>160.0</td>\n",
              "      <td>120.0</td>\n",
              "      <td>100.0</td>\n",
              "      <td>100.0</td>\n",
              "      <td>560.0</td>\n",
              "      <td>Sim</td>\n",
              "    </tr>\n",
              "    <tr>\n",
              "      <th>3</th>\n",
              "      <td>1,90E+11</td>\n",
              "      <td>Embu-Guaçu</td>\n",
              "      <td>17</td>\n",
              "      <td>F</td>\n",
              "      <td>1</td>\n",
              "      <td>parda</td>\n",
              "      <td>1</td>\n",
              "      <td>2</td>\n",
              "      <td>pública</td>\n",
              "      <td>NaN</td>\n",
              "      <td>...</td>\n",
              "      <td>419.2</td>\n",
              "      <td>Inglês</td>\n",
              "      <td>1.0</td>\n",
              "      <td>120.0</td>\n",
              "      <td>120.0</td>\n",
              "      <td>120.0</td>\n",
              "      <td>120.0</td>\n",
              "      <td>80.0</td>\n",
              "      <td>560.0</td>\n",
              "      <td>Sim</td>\n",
              "    </tr>\n",
              "    <tr>\n",
              "      <th>4</th>\n",
              "      <td>1,90E+11</td>\n",
              "      <td>Guarulhos</td>\n",
              "      <td>23</td>\n",
              "      <td>F</td>\n",
              "      <td>1</td>\n",
              "      <td>branca</td>\n",
              "      <td>1</td>\n",
              "      <td>1</td>\n",
              "      <td>não_respondeu</td>\n",
              "      <td>NaN</td>\n",
              "      <td>...</td>\n",
              "      <td>796.1</td>\n",
              "      <td>Inglês</td>\n",
              "      <td>1.0</td>\n",
              "      <td>160.0</td>\n",
              "      <td>200.0</td>\n",
              "      <td>180.0</td>\n",
              "      <td>180.0</td>\n",
              "      <td>160.0</td>\n",
              "      <td>880.0</td>\n",
              "      <td>Sim</td>\n",
              "    </tr>\n",
              "  </tbody>\n",
              "</table>\n",
              "<p>5 rows × 28 columns</p>\n",
              "</div>\n",
              "    <div class=\"colab-df-buttons\">\n",
              "\n",
              "  <div class=\"colab-df-container\">\n",
              "    <button class=\"colab-df-convert\" onclick=\"convertToInteractive('df-4f998dee-d327-4765-a963-ef2fd431d2fc')\"\n",
              "            title=\"Convert this dataframe to an interactive table.\"\n",
              "            style=\"display:none;\">\n",
              "\n",
              "  <svg xmlns=\"http://www.w3.org/2000/svg\" height=\"24px\" viewBox=\"0 -960 960 960\">\n",
              "    <path d=\"M120-120v-720h720v720H120Zm60-500h600v-160H180v160Zm220 220h160v-160H400v160Zm0 220h160v-160H400v160ZM180-400h160v-160H180v160Zm440 0h160v-160H620v160ZM180-180h160v-160H180v160Zm440 0h160v-160H620v160Z\"/>\n",
              "  </svg>\n",
              "    </button>\n",
              "\n",
              "  <style>\n",
              "    .colab-df-container {\n",
              "      display:flex;\n",
              "      gap: 12px;\n",
              "    }\n",
              "\n",
              "    .colab-df-convert {\n",
              "      background-color: #E8F0FE;\n",
              "      border: none;\n",
              "      border-radius: 50%;\n",
              "      cursor: pointer;\n",
              "      display: none;\n",
              "      fill: #1967D2;\n",
              "      height: 32px;\n",
              "      padding: 0 0 0 0;\n",
              "      width: 32px;\n",
              "    }\n",
              "\n",
              "    .colab-df-convert:hover {\n",
              "      background-color: #E2EBFA;\n",
              "      box-shadow: 0px 1px 2px rgba(60, 64, 67, 0.3), 0px 1px 3px 1px rgba(60, 64, 67, 0.15);\n",
              "      fill: #174EA6;\n",
              "    }\n",
              "\n",
              "    .colab-df-buttons div {\n",
              "      margin-bottom: 4px;\n",
              "    }\n",
              "\n",
              "    [theme=dark] .colab-df-convert {\n",
              "      background-color: #3B4455;\n",
              "      fill: #D2E3FC;\n",
              "    }\n",
              "\n",
              "    [theme=dark] .colab-df-convert:hover {\n",
              "      background-color: #434B5C;\n",
              "      box-shadow: 0px 1px 3px 1px rgba(0, 0, 0, 0.15);\n",
              "      filter: drop-shadow(0px 1px 2px rgba(0, 0, 0, 0.3));\n",
              "      fill: #FFFFFF;\n",
              "    }\n",
              "  </style>\n",
              "\n",
              "    <script>\n",
              "      const buttonEl =\n",
              "        document.querySelector('#df-4f998dee-d327-4765-a963-ef2fd431d2fc button.colab-df-convert');\n",
              "      buttonEl.style.display =\n",
              "        google.colab.kernel.accessAllowed ? 'block' : 'none';\n",
              "\n",
              "      async function convertToInteractive(key) {\n",
              "        const element = document.querySelector('#df-4f998dee-d327-4765-a963-ef2fd431d2fc');\n",
              "        const dataTable =\n",
              "          await google.colab.kernel.invokeFunction('convertToInteractive',\n",
              "                                                    [key], {});\n",
              "        if (!dataTable) return;\n",
              "\n",
              "        const docLinkHtml = 'Like what you see? Visit the ' +\n",
              "          '<a target=\"_blank\" href=https://colab.research.google.com/notebooks/data_table.ipynb>data table notebook</a>'\n",
              "          + ' to learn more about interactive tables.';\n",
              "        element.innerHTML = '';\n",
              "        dataTable['output_type'] = 'display_data';\n",
              "        await google.colab.output.renderOutput(dataTable, element);\n",
              "        const docLink = document.createElement('div');\n",
              "        docLink.innerHTML = docLinkHtml;\n",
              "        element.appendChild(docLink);\n",
              "      }\n",
              "    </script>\n",
              "  </div>\n",
              "\n",
              "\n",
              "    <div id=\"df-99a6c153-ecb4-4f9f-8e40-9f00b2865661\">\n",
              "      <button class=\"colab-df-quickchart\" onclick=\"quickchart('df-99a6c153-ecb4-4f9f-8e40-9f00b2865661')\"\n",
              "                title=\"Suggest charts\"\n",
              "                style=\"display:none;\">\n",
              "\n",
              "<svg xmlns=\"http://www.w3.org/2000/svg\" height=\"24px\"viewBox=\"0 0 24 24\"\n",
              "     width=\"24px\">\n",
              "    <g>\n",
              "        <path d=\"M19 3H5c-1.1 0-2 .9-2 2v14c0 1.1.9 2 2 2h14c1.1 0 2-.9 2-2V5c0-1.1-.9-2-2-2zM9 17H7v-7h2v7zm4 0h-2V7h2v10zm4 0h-2v-4h2v4z\"/>\n",
              "    </g>\n",
              "</svg>\n",
              "      </button>\n",
              "\n",
              "<style>\n",
              "  .colab-df-quickchart {\n",
              "      --bg-color: #E8F0FE;\n",
              "      --fill-color: #1967D2;\n",
              "      --hover-bg-color: #E2EBFA;\n",
              "      --hover-fill-color: #174EA6;\n",
              "      --disabled-fill-color: #AAA;\n",
              "      --disabled-bg-color: #DDD;\n",
              "  }\n",
              "\n",
              "  [theme=dark] .colab-df-quickchart {\n",
              "      --bg-color: #3B4455;\n",
              "      --fill-color: #D2E3FC;\n",
              "      --hover-bg-color: #434B5C;\n",
              "      --hover-fill-color: #FFFFFF;\n",
              "      --disabled-bg-color: #3B4455;\n",
              "      --disabled-fill-color: #666;\n",
              "  }\n",
              "\n",
              "  .colab-df-quickchart {\n",
              "    background-color: var(--bg-color);\n",
              "    border: none;\n",
              "    border-radius: 50%;\n",
              "    cursor: pointer;\n",
              "    display: none;\n",
              "    fill: var(--fill-color);\n",
              "    height: 32px;\n",
              "    padding: 0;\n",
              "    width: 32px;\n",
              "  }\n",
              "\n",
              "  .colab-df-quickchart:hover {\n",
              "    background-color: var(--hover-bg-color);\n",
              "    box-shadow: 0 1px 2px rgba(60, 64, 67, 0.3), 0 1px 3px 1px rgba(60, 64, 67, 0.15);\n",
              "    fill: var(--button-hover-fill-color);\n",
              "  }\n",
              "\n",
              "  .colab-df-quickchart-complete:disabled,\n",
              "  .colab-df-quickchart-complete:disabled:hover {\n",
              "    background-color: var(--disabled-bg-color);\n",
              "    fill: var(--disabled-fill-color);\n",
              "    box-shadow: none;\n",
              "  }\n",
              "\n",
              "  .colab-df-spinner {\n",
              "    border: 2px solid var(--fill-color);\n",
              "    border-color: transparent;\n",
              "    border-bottom-color: var(--fill-color);\n",
              "    animation:\n",
              "      spin 1s steps(1) infinite;\n",
              "  }\n",
              "\n",
              "  @keyframes spin {\n",
              "    0% {\n",
              "      border-color: transparent;\n",
              "      border-bottom-color: var(--fill-color);\n",
              "      border-left-color: var(--fill-color);\n",
              "    }\n",
              "    20% {\n",
              "      border-color: transparent;\n",
              "      border-left-color: var(--fill-color);\n",
              "      border-top-color: var(--fill-color);\n",
              "    }\n",
              "    30% {\n",
              "      border-color: transparent;\n",
              "      border-left-color: var(--fill-color);\n",
              "      border-top-color: var(--fill-color);\n",
              "      border-right-color: var(--fill-color);\n",
              "    }\n",
              "    40% {\n",
              "      border-color: transparent;\n",
              "      border-right-color: var(--fill-color);\n",
              "      border-top-color: var(--fill-color);\n",
              "    }\n",
              "    60% {\n",
              "      border-color: transparent;\n",
              "      border-right-color: var(--fill-color);\n",
              "    }\n",
              "    80% {\n",
              "      border-color: transparent;\n",
              "      border-right-color: var(--fill-color);\n",
              "      border-bottom-color: var(--fill-color);\n",
              "    }\n",
              "    90% {\n",
              "      border-color: transparent;\n",
              "      border-bottom-color: var(--fill-color);\n",
              "    }\n",
              "  }\n",
              "</style>\n",
              "\n",
              "      <script>\n",
              "        async function quickchart(key) {\n",
              "          const quickchartButtonEl =\n",
              "            document.querySelector('#' + key + ' button');\n",
              "          quickchartButtonEl.disabled = true;  // To prevent multiple clicks.\n",
              "          quickchartButtonEl.classList.add('colab-df-spinner');\n",
              "          try {\n",
              "            const charts = await google.colab.kernel.invokeFunction(\n",
              "                'suggestCharts', [key], {});\n",
              "          } catch (error) {\n",
              "            console.error('Error during call to suggestCharts:', error);\n",
              "          }\n",
              "          quickchartButtonEl.classList.remove('colab-df-spinner');\n",
              "          quickchartButtonEl.classList.add('colab-df-quickchart-complete');\n",
              "        }\n",
              "        (() => {\n",
              "          let quickchartButtonEl =\n",
              "            document.querySelector('#df-99a6c153-ecb4-4f9f-8e40-9f00b2865661 button');\n",
              "          quickchartButtonEl.style.display =\n",
              "            google.colab.kernel.accessAllowed ? 'block' : 'none';\n",
              "        })();\n",
              "      </script>\n",
              "    </div>\n",
              "\n",
              "    </div>\n",
              "  </div>\n"
            ],
            "application/vnd.google.colaboratory.intrinsic+json": {
              "type": "dataframe",
              "variable_name": "enem_sp"
            }
          },
          "metadata": {},
          "execution_count": 6
        }
      ]
    },
    {
      "cell_type": "code",
      "metadata": {
        "id": "QjUHhWqFoVG4"
      },
      "source": [
        "colegioy = enem_sp.loc[enem_sp.CO_ESCOLA == 35151506.0]"
      ],
      "execution_count": 8,
      "outputs": []
    },
    {
      "cell_type": "code",
      "metadata": {
        "id": "ro1T9FRnoz3u",
        "colab": {
          "base_uri": "https://localhost:8080/"
        },
        "outputId": "0d2fc8b5-be87-4eca-92cb-b892ebc273f7"
      },
      "source": [
        "colegioy.shape"
      ],
      "execution_count": 9,
      "outputs": [
        {
          "output_type": "execute_result",
          "data": {
            "text/plain": [
              "(30, 28)"
            ]
          },
          "metadata": {},
          "execution_count": 9
        }
      ]
    },
    {
      "cell_type": "code",
      "metadata": {
        "id": "5AYuP9cMcRhz",
        "colab": {
          "base_uri": "https://localhost:8080/",
          "height": 255
        },
        "outputId": "ea1da25a-70a3-421a-b874-6b1222541e1d"
      },
      "source": [
        "colegioy.head()"
      ],
      "execution_count": 10,
      "outputs": [
        {
          "output_type": "execute_result",
          "data": {
            "text/plain": [
              "      NU_INSCRICAO NO_MUNICIPIO_RESIDENCIA  IDADE SEXO  TP_ESTADO_CIVIL  \\\n",
              "492       1,90E+11               São Paulo     17    F                1   \n",
              "7910      1,90E+11               São Paulo     18    F                1   \n",
              "14367     1,90E+11               São Paulo     17    M                1   \n",
              "22519     1,90E+11               São Paulo     17    F                1   \n",
              "58184     1,90E+11               São Paulo     17    M                1   \n",
              "\n",
              "         RACA  TP_NACIONALIDADE  TP_ST_CONCLUSAO   ESCOLA   CO_ESCOLA  ...  \\\n",
              "492    branca                 1                2  privada  35151506.0  ...   \n",
              "7910   branca                 1                2  privada  35151506.0  ...   \n",
              "14367  branca                 1                2  privada  35151506.0  ...   \n",
              "22519   preta                 1                2  privada  35151506.0  ...   \n",
              "58184  branca                 1                2  privada  35151506.0  ...   \n",
              "\n",
              "      NOTA_MT  TP_LINGUA  TP_STATUS_REDACAO  COMP1  COMP2  COMP3  COMP4  \\\n",
              "492      64.0     Inglês                1.0  160.0  160.0  140.0  140.0   \n",
              "7910    699.5     Inglês                1.0  160.0  120.0  160.0  160.0   \n",
              "14367   780.2     Inglês                1.0  120.0  120.0  100.0  140.0   \n",
              "22519   732.2     Inglês                1.0  140.0  120.0  140.0  180.0   \n",
              "58184   756.3     Inglês                1.0  160.0  200.0  200.0  200.0   \n",
              "\n",
              "       COMP5  NOTA_REDACAO INTERNET  \n",
              "492    120.0         720.0      Sim  \n",
              "7910   140.0         740.0      Sim  \n",
              "14367  160.0         640.0      Sim  \n",
              "22519  120.0         700.0      Sim  \n",
              "58184  200.0         960.0      Sim  \n",
              "\n",
              "[5 rows x 28 columns]"
            ],
            "text/html": [
              "\n",
              "  <div id=\"df-dcd555fd-02b0-49b1-974f-933381841e7d\" class=\"colab-df-container\">\n",
              "    <div>\n",
              "<style scoped>\n",
              "    .dataframe tbody tr th:only-of-type {\n",
              "        vertical-align: middle;\n",
              "    }\n",
              "\n",
              "    .dataframe tbody tr th {\n",
              "        vertical-align: top;\n",
              "    }\n",
              "\n",
              "    .dataframe thead th {\n",
              "        text-align: right;\n",
              "    }\n",
              "</style>\n",
              "<table border=\"1\" class=\"dataframe\">\n",
              "  <thead>\n",
              "    <tr style=\"text-align: right;\">\n",
              "      <th></th>\n",
              "      <th>NU_INSCRICAO</th>\n",
              "      <th>NO_MUNICIPIO_RESIDENCIA</th>\n",
              "      <th>IDADE</th>\n",
              "      <th>SEXO</th>\n",
              "      <th>TP_ESTADO_CIVIL</th>\n",
              "      <th>RACA</th>\n",
              "      <th>TP_NACIONALIDADE</th>\n",
              "      <th>TP_ST_CONCLUSAO</th>\n",
              "      <th>ESCOLA</th>\n",
              "      <th>CO_ESCOLA</th>\n",
              "      <th>...</th>\n",
              "      <th>NOTA_MT</th>\n",
              "      <th>TP_LINGUA</th>\n",
              "      <th>TP_STATUS_REDACAO</th>\n",
              "      <th>COMP1</th>\n",
              "      <th>COMP2</th>\n",
              "      <th>COMP3</th>\n",
              "      <th>COMP4</th>\n",
              "      <th>COMP5</th>\n",
              "      <th>NOTA_REDACAO</th>\n",
              "      <th>INTERNET</th>\n",
              "    </tr>\n",
              "  </thead>\n",
              "  <tbody>\n",
              "    <tr>\n",
              "      <th>492</th>\n",
              "      <td>1,90E+11</td>\n",
              "      <td>São Paulo</td>\n",
              "      <td>17</td>\n",
              "      <td>F</td>\n",
              "      <td>1</td>\n",
              "      <td>branca</td>\n",
              "      <td>1</td>\n",
              "      <td>2</td>\n",
              "      <td>privada</td>\n",
              "      <td>35151506.0</td>\n",
              "      <td>...</td>\n",
              "      <td>64.0</td>\n",
              "      <td>Inglês</td>\n",
              "      <td>1.0</td>\n",
              "      <td>160.0</td>\n",
              "      <td>160.0</td>\n",
              "      <td>140.0</td>\n",
              "      <td>140.0</td>\n",
              "      <td>120.0</td>\n",
              "      <td>720.0</td>\n",
              "      <td>Sim</td>\n",
              "    </tr>\n",
              "    <tr>\n",
              "      <th>7910</th>\n",
              "      <td>1,90E+11</td>\n",
              "      <td>São Paulo</td>\n",
              "      <td>18</td>\n",
              "      <td>F</td>\n",
              "      <td>1</td>\n",
              "      <td>branca</td>\n",
              "      <td>1</td>\n",
              "      <td>2</td>\n",
              "      <td>privada</td>\n",
              "      <td>35151506.0</td>\n",
              "      <td>...</td>\n",
              "      <td>699.5</td>\n",
              "      <td>Inglês</td>\n",
              "      <td>1.0</td>\n",
              "      <td>160.0</td>\n",
              "      <td>120.0</td>\n",
              "      <td>160.0</td>\n",
              "      <td>160.0</td>\n",
              "      <td>140.0</td>\n",
              "      <td>740.0</td>\n",
              "      <td>Sim</td>\n",
              "    </tr>\n",
              "    <tr>\n",
              "      <th>14367</th>\n",
              "      <td>1,90E+11</td>\n",
              "      <td>São Paulo</td>\n",
              "      <td>17</td>\n",
              "      <td>M</td>\n",
              "      <td>1</td>\n",
              "      <td>branca</td>\n",
              "      <td>1</td>\n",
              "      <td>2</td>\n",
              "      <td>privada</td>\n",
              "      <td>35151506.0</td>\n",
              "      <td>...</td>\n",
              "      <td>780.2</td>\n",
              "      <td>Inglês</td>\n",
              "      <td>1.0</td>\n",
              "      <td>120.0</td>\n",
              "      <td>120.0</td>\n",
              "      <td>100.0</td>\n",
              "      <td>140.0</td>\n",
              "      <td>160.0</td>\n",
              "      <td>640.0</td>\n",
              "      <td>Sim</td>\n",
              "    </tr>\n",
              "    <tr>\n",
              "      <th>22519</th>\n",
              "      <td>1,90E+11</td>\n",
              "      <td>São Paulo</td>\n",
              "      <td>17</td>\n",
              "      <td>F</td>\n",
              "      <td>1</td>\n",
              "      <td>preta</td>\n",
              "      <td>1</td>\n",
              "      <td>2</td>\n",
              "      <td>privada</td>\n",
              "      <td>35151506.0</td>\n",
              "      <td>...</td>\n",
              "      <td>732.2</td>\n",
              "      <td>Inglês</td>\n",
              "      <td>1.0</td>\n",
              "      <td>140.0</td>\n",
              "      <td>120.0</td>\n",
              "      <td>140.0</td>\n",
              "      <td>180.0</td>\n",
              "      <td>120.0</td>\n",
              "      <td>700.0</td>\n",
              "      <td>Sim</td>\n",
              "    </tr>\n",
              "    <tr>\n",
              "      <th>58184</th>\n",
              "      <td>1,90E+11</td>\n",
              "      <td>São Paulo</td>\n",
              "      <td>17</td>\n",
              "      <td>M</td>\n",
              "      <td>1</td>\n",
              "      <td>branca</td>\n",
              "      <td>1</td>\n",
              "      <td>2</td>\n",
              "      <td>privada</td>\n",
              "      <td>35151506.0</td>\n",
              "      <td>...</td>\n",
              "      <td>756.3</td>\n",
              "      <td>Inglês</td>\n",
              "      <td>1.0</td>\n",
              "      <td>160.0</td>\n",
              "      <td>200.0</td>\n",
              "      <td>200.0</td>\n",
              "      <td>200.0</td>\n",
              "      <td>200.0</td>\n",
              "      <td>960.0</td>\n",
              "      <td>Sim</td>\n",
              "    </tr>\n",
              "  </tbody>\n",
              "</table>\n",
              "<p>5 rows × 28 columns</p>\n",
              "</div>\n",
              "    <div class=\"colab-df-buttons\">\n",
              "\n",
              "  <div class=\"colab-df-container\">\n",
              "    <button class=\"colab-df-convert\" onclick=\"convertToInteractive('df-dcd555fd-02b0-49b1-974f-933381841e7d')\"\n",
              "            title=\"Convert this dataframe to an interactive table.\"\n",
              "            style=\"display:none;\">\n",
              "\n",
              "  <svg xmlns=\"http://www.w3.org/2000/svg\" height=\"24px\" viewBox=\"0 -960 960 960\">\n",
              "    <path d=\"M120-120v-720h720v720H120Zm60-500h600v-160H180v160Zm220 220h160v-160H400v160Zm0 220h160v-160H400v160ZM180-400h160v-160H180v160Zm440 0h160v-160H620v160ZM180-180h160v-160H180v160Zm440 0h160v-160H620v160Z\"/>\n",
              "  </svg>\n",
              "    </button>\n",
              "\n",
              "  <style>\n",
              "    .colab-df-container {\n",
              "      display:flex;\n",
              "      gap: 12px;\n",
              "    }\n",
              "\n",
              "    .colab-df-convert {\n",
              "      background-color: #E8F0FE;\n",
              "      border: none;\n",
              "      border-radius: 50%;\n",
              "      cursor: pointer;\n",
              "      display: none;\n",
              "      fill: #1967D2;\n",
              "      height: 32px;\n",
              "      padding: 0 0 0 0;\n",
              "      width: 32px;\n",
              "    }\n",
              "\n",
              "    .colab-df-convert:hover {\n",
              "      background-color: #E2EBFA;\n",
              "      box-shadow: 0px 1px 2px rgba(60, 64, 67, 0.3), 0px 1px 3px 1px rgba(60, 64, 67, 0.15);\n",
              "      fill: #174EA6;\n",
              "    }\n",
              "\n",
              "    .colab-df-buttons div {\n",
              "      margin-bottom: 4px;\n",
              "    }\n",
              "\n",
              "    [theme=dark] .colab-df-convert {\n",
              "      background-color: #3B4455;\n",
              "      fill: #D2E3FC;\n",
              "    }\n",
              "\n",
              "    [theme=dark] .colab-df-convert:hover {\n",
              "      background-color: #434B5C;\n",
              "      box-shadow: 0px 1px 3px 1px rgba(0, 0, 0, 0.15);\n",
              "      filter: drop-shadow(0px 1px 2px rgba(0, 0, 0, 0.3));\n",
              "      fill: #FFFFFF;\n",
              "    }\n",
              "  </style>\n",
              "\n",
              "    <script>\n",
              "      const buttonEl =\n",
              "        document.querySelector('#df-dcd555fd-02b0-49b1-974f-933381841e7d button.colab-df-convert');\n",
              "      buttonEl.style.display =\n",
              "        google.colab.kernel.accessAllowed ? 'block' : 'none';\n",
              "\n",
              "      async function convertToInteractive(key) {\n",
              "        const element = document.querySelector('#df-dcd555fd-02b0-49b1-974f-933381841e7d');\n",
              "        const dataTable =\n",
              "          await google.colab.kernel.invokeFunction('convertToInteractive',\n",
              "                                                    [key], {});\n",
              "        if (!dataTable) return;\n",
              "\n",
              "        const docLinkHtml = 'Like what you see? Visit the ' +\n",
              "          '<a target=\"_blank\" href=https://colab.research.google.com/notebooks/data_table.ipynb>data table notebook</a>'\n",
              "          + ' to learn more about interactive tables.';\n",
              "        element.innerHTML = '';\n",
              "        dataTable['output_type'] = 'display_data';\n",
              "        await google.colab.output.renderOutput(dataTable, element);\n",
              "        const docLink = document.createElement('div');\n",
              "        docLink.innerHTML = docLinkHtml;\n",
              "        element.appendChild(docLink);\n",
              "      }\n",
              "    </script>\n",
              "  </div>\n",
              "\n",
              "\n",
              "    <div id=\"df-3318109c-3a40-4ce6-b9fb-d7ddae5bc369\">\n",
              "      <button class=\"colab-df-quickchart\" onclick=\"quickchart('df-3318109c-3a40-4ce6-b9fb-d7ddae5bc369')\"\n",
              "                title=\"Suggest charts\"\n",
              "                style=\"display:none;\">\n",
              "\n",
              "<svg xmlns=\"http://www.w3.org/2000/svg\" height=\"24px\"viewBox=\"0 0 24 24\"\n",
              "     width=\"24px\">\n",
              "    <g>\n",
              "        <path d=\"M19 3H5c-1.1 0-2 .9-2 2v14c0 1.1.9 2 2 2h14c1.1 0 2-.9 2-2V5c0-1.1-.9-2-2-2zM9 17H7v-7h2v7zm4 0h-2V7h2v10zm4 0h-2v-4h2v4z\"/>\n",
              "    </g>\n",
              "</svg>\n",
              "      </button>\n",
              "\n",
              "<style>\n",
              "  .colab-df-quickchart {\n",
              "      --bg-color: #E8F0FE;\n",
              "      --fill-color: #1967D2;\n",
              "      --hover-bg-color: #E2EBFA;\n",
              "      --hover-fill-color: #174EA6;\n",
              "      --disabled-fill-color: #AAA;\n",
              "      --disabled-bg-color: #DDD;\n",
              "  }\n",
              "\n",
              "  [theme=dark] .colab-df-quickchart {\n",
              "      --bg-color: #3B4455;\n",
              "      --fill-color: #D2E3FC;\n",
              "      --hover-bg-color: #434B5C;\n",
              "      --hover-fill-color: #FFFFFF;\n",
              "      --disabled-bg-color: #3B4455;\n",
              "      --disabled-fill-color: #666;\n",
              "  }\n",
              "\n",
              "  .colab-df-quickchart {\n",
              "    background-color: var(--bg-color);\n",
              "    border: none;\n",
              "    border-radius: 50%;\n",
              "    cursor: pointer;\n",
              "    display: none;\n",
              "    fill: var(--fill-color);\n",
              "    height: 32px;\n",
              "    padding: 0;\n",
              "    width: 32px;\n",
              "  }\n",
              "\n",
              "  .colab-df-quickchart:hover {\n",
              "    background-color: var(--hover-bg-color);\n",
              "    box-shadow: 0 1px 2px rgba(60, 64, 67, 0.3), 0 1px 3px 1px rgba(60, 64, 67, 0.15);\n",
              "    fill: var(--button-hover-fill-color);\n",
              "  }\n",
              "\n",
              "  .colab-df-quickchart-complete:disabled,\n",
              "  .colab-df-quickchart-complete:disabled:hover {\n",
              "    background-color: var(--disabled-bg-color);\n",
              "    fill: var(--disabled-fill-color);\n",
              "    box-shadow: none;\n",
              "  }\n",
              "\n",
              "  .colab-df-spinner {\n",
              "    border: 2px solid var(--fill-color);\n",
              "    border-color: transparent;\n",
              "    border-bottom-color: var(--fill-color);\n",
              "    animation:\n",
              "      spin 1s steps(1) infinite;\n",
              "  }\n",
              "\n",
              "  @keyframes spin {\n",
              "    0% {\n",
              "      border-color: transparent;\n",
              "      border-bottom-color: var(--fill-color);\n",
              "      border-left-color: var(--fill-color);\n",
              "    }\n",
              "    20% {\n",
              "      border-color: transparent;\n",
              "      border-left-color: var(--fill-color);\n",
              "      border-top-color: var(--fill-color);\n",
              "    }\n",
              "    30% {\n",
              "      border-color: transparent;\n",
              "      border-left-color: var(--fill-color);\n",
              "      border-top-color: var(--fill-color);\n",
              "      border-right-color: var(--fill-color);\n",
              "    }\n",
              "    40% {\n",
              "      border-color: transparent;\n",
              "      border-right-color: var(--fill-color);\n",
              "      border-top-color: var(--fill-color);\n",
              "    }\n",
              "    60% {\n",
              "      border-color: transparent;\n",
              "      border-right-color: var(--fill-color);\n",
              "    }\n",
              "    80% {\n",
              "      border-color: transparent;\n",
              "      border-right-color: var(--fill-color);\n",
              "      border-bottom-color: var(--fill-color);\n",
              "    }\n",
              "    90% {\n",
              "      border-color: transparent;\n",
              "      border-bottom-color: var(--fill-color);\n",
              "    }\n",
              "  }\n",
              "</style>\n",
              "\n",
              "      <script>\n",
              "        async function quickchart(key) {\n",
              "          const quickchartButtonEl =\n",
              "            document.querySelector('#' + key + ' button');\n",
              "          quickchartButtonEl.disabled = true;  // To prevent multiple clicks.\n",
              "          quickchartButtonEl.classList.add('colab-df-spinner');\n",
              "          try {\n",
              "            const charts = await google.colab.kernel.invokeFunction(\n",
              "                'suggestCharts', [key], {});\n",
              "          } catch (error) {\n",
              "            console.error('Error during call to suggestCharts:', error);\n",
              "          }\n",
              "          quickchartButtonEl.classList.remove('colab-df-spinner');\n",
              "          quickchartButtonEl.classList.add('colab-df-quickchart-complete');\n",
              "        }\n",
              "        (() => {\n",
              "          let quickchartButtonEl =\n",
              "            document.querySelector('#df-3318109c-3a40-4ce6-b9fb-d7ddae5bc369 button');\n",
              "          quickchartButtonEl.style.display =\n",
              "            google.colab.kernel.accessAllowed ? 'block' : 'none';\n",
              "        })();\n",
              "      </script>\n",
              "    </div>\n",
              "\n",
              "    </div>\n",
              "  </div>\n"
            ],
            "application/vnd.google.colaboratory.intrinsic+json": {
              "type": "dataframe",
              "variable_name": "colegioy"
            }
          },
          "metadata": {},
          "execution_count": 10
        }
      ]
    },
    {
      "cell_type": "markdown",
      "metadata": {
        "id": "CBuFd2yGfSMP"
      },
      "source": [
        "1) Analisar a classificação das variáveis"
      ]
    },
    {
      "cell_type": "code",
      "metadata": {
        "id": "VZfjhBVufRdz",
        "colab": {
          "base_uri": "https://localhost:8080/",
          "height": 962
        },
        "outputId": "f1bb345d-9e88-4bfa-89ab-18630d01167c"
      },
      "source": [
        "colegioy.dtypes"
      ],
      "execution_count": 11,
      "outputs": [
        {
          "output_type": "execute_result",
          "data": {
            "text/plain": [
              "NU_INSCRICAO                object\n",
              "NO_MUNICIPIO_RESIDENCIA     object\n",
              "IDADE                        int64\n",
              "SEXO                        object\n",
              "TP_ESTADO_CIVIL              int64\n",
              "RACA                        object\n",
              "TP_NACIONALIDADE             int64\n",
              "TP_ST_CONCLUSAO              int64\n",
              "ESCOLA                      object\n",
              "CO_ESCOLA                  float64\n",
              "NO_MUNICIPIO_ESC            object\n",
              "TP_PRESENCA_CN               int64\n",
              "TP_PRESENCA_CH               int64\n",
              "TP_PRESENCA_LC               int64\n",
              "TP_PRESENCA_MT               int64\n",
              "NOTA_CN                    float64\n",
              "NOTA_CH                    float64\n",
              "NOTA_LC                    float64\n",
              "NOTA_MT                    float64\n",
              "TP_LINGUA                   object\n",
              "TP_STATUS_REDACAO          float64\n",
              "COMP1                      float64\n",
              "COMP2                      float64\n",
              "COMP3                      float64\n",
              "COMP4                      float64\n",
              "COMP5                      float64\n",
              "NOTA_REDACAO               float64\n",
              "INTERNET                    object\n",
              "dtype: object"
            ],
            "text/html": [
              "<div>\n",
              "<style scoped>\n",
              "    .dataframe tbody tr th:only-of-type {\n",
              "        vertical-align: middle;\n",
              "    }\n",
              "\n",
              "    .dataframe tbody tr th {\n",
              "        vertical-align: top;\n",
              "    }\n",
              "\n",
              "    .dataframe thead th {\n",
              "        text-align: right;\n",
              "    }\n",
              "</style>\n",
              "<table border=\"1\" class=\"dataframe\">\n",
              "  <thead>\n",
              "    <tr style=\"text-align: right;\">\n",
              "      <th></th>\n",
              "      <th>0</th>\n",
              "    </tr>\n",
              "  </thead>\n",
              "  <tbody>\n",
              "    <tr>\n",
              "      <th>NU_INSCRICAO</th>\n",
              "      <td>object</td>\n",
              "    </tr>\n",
              "    <tr>\n",
              "      <th>NO_MUNICIPIO_RESIDENCIA</th>\n",
              "      <td>object</td>\n",
              "    </tr>\n",
              "    <tr>\n",
              "      <th>IDADE</th>\n",
              "      <td>int64</td>\n",
              "    </tr>\n",
              "    <tr>\n",
              "      <th>SEXO</th>\n",
              "      <td>object</td>\n",
              "    </tr>\n",
              "    <tr>\n",
              "      <th>TP_ESTADO_CIVIL</th>\n",
              "      <td>int64</td>\n",
              "    </tr>\n",
              "    <tr>\n",
              "      <th>RACA</th>\n",
              "      <td>object</td>\n",
              "    </tr>\n",
              "    <tr>\n",
              "      <th>TP_NACIONALIDADE</th>\n",
              "      <td>int64</td>\n",
              "    </tr>\n",
              "    <tr>\n",
              "      <th>TP_ST_CONCLUSAO</th>\n",
              "      <td>int64</td>\n",
              "    </tr>\n",
              "    <tr>\n",
              "      <th>ESCOLA</th>\n",
              "      <td>object</td>\n",
              "    </tr>\n",
              "    <tr>\n",
              "      <th>CO_ESCOLA</th>\n",
              "      <td>float64</td>\n",
              "    </tr>\n",
              "    <tr>\n",
              "      <th>NO_MUNICIPIO_ESC</th>\n",
              "      <td>object</td>\n",
              "    </tr>\n",
              "    <tr>\n",
              "      <th>TP_PRESENCA_CN</th>\n",
              "      <td>int64</td>\n",
              "    </tr>\n",
              "    <tr>\n",
              "      <th>TP_PRESENCA_CH</th>\n",
              "      <td>int64</td>\n",
              "    </tr>\n",
              "    <tr>\n",
              "      <th>TP_PRESENCA_LC</th>\n",
              "      <td>int64</td>\n",
              "    </tr>\n",
              "    <tr>\n",
              "      <th>TP_PRESENCA_MT</th>\n",
              "      <td>int64</td>\n",
              "    </tr>\n",
              "    <tr>\n",
              "      <th>NOTA_CN</th>\n",
              "      <td>float64</td>\n",
              "    </tr>\n",
              "    <tr>\n",
              "      <th>NOTA_CH</th>\n",
              "      <td>float64</td>\n",
              "    </tr>\n",
              "    <tr>\n",
              "      <th>NOTA_LC</th>\n",
              "      <td>float64</td>\n",
              "    </tr>\n",
              "    <tr>\n",
              "      <th>NOTA_MT</th>\n",
              "      <td>float64</td>\n",
              "    </tr>\n",
              "    <tr>\n",
              "      <th>TP_LINGUA</th>\n",
              "      <td>object</td>\n",
              "    </tr>\n",
              "    <tr>\n",
              "      <th>TP_STATUS_REDACAO</th>\n",
              "      <td>float64</td>\n",
              "    </tr>\n",
              "    <tr>\n",
              "      <th>COMP1</th>\n",
              "      <td>float64</td>\n",
              "    </tr>\n",
              "    <tr>\n",
              "      <th>COMP2</th>\n",
              "      <td>float64</td>\n",
              "    </tr>\n",
              "    <tr>\n",
              "      <th>COMP3</th>\n",
              "      <td>float64</td>\n",
              "    </tr>\n",
              "    <tr>\n",
              "      <th>COMP4</th>\n",
              "      <td>float64</td>\n",
              "    </tr>\n",
              "    <tr>\n",
              "      <th>COMP5</th>\n",
              "      <td>float64</td>\n",
              "    </tr>\n",
              "    <tr>\n",
              "      <th>NOTA_REDACAO</th>\n",
              "      <td>float64</td>\n",
              "    </tr>\n",
              "    <tr>\n",
              "      <th>INTERNET</th>\n",
              "      <td>object</td>\n",
              "    </tr>\n",
              "  </tbody>\n",
              "</table>\n",
              "</div><br><label><b>dtype:</b> object</label>"
            ]
          },
          "metadata": {},
          "execution_count": 11
        }
      ]
    },
    {
      "cell_type": "markdown",
      "metadata": {
        "id": "6pMJjefKgP8u"
      },
      "source": [
        "2) Analisar valores missing"
      ]
    },
    {
      "cell_type": "code",
      "metadata": {
        "id": "Jk34lwvkgTdy",
        "colab": {
          "base_uri": "https://localhost:8080/",
          "height": 962
        },
        "outputId": "d128d949-0ba1-4493-8070-12e774c53dfc"
      },
      "source": [
        "colegioy.isnull().sum()"
      ],
      "execution_count": 12,
      "outputs": [
        {
          "output_type": "execute_result",
          "data": {
            "text/plain": [
              "NU_INSCRICAO               0\n",
              "NO_MUNICIPIO_RESIDENCIA    0\n",
              "IDADE                      0\n",
              "SEXO                       0\n",
              "TP_ESTADO_CIVIL            0\n",
              "RACA                       0\n",
              "TP_NACIONALIDADE           0\n",
              "TP_ST_CONCLUSAO            0\n",
              "ESCOLA                     0\n",
              "CO_ESCOLA                  0\n",
              "NO_MUNICIPIO_ESC           0\n",
              "TP_PRESENCA_CN             0\n",
              "TP_PRESENCA_CH             0\n",
              "TP_PRESENCA_LC             0\n",
              "TP_PRESENCA_MT             0\n",
              "NOTA_CN                    0\n",
              "NOTA_CH                    0\n",
              "NOTA_LC                    0\n",
              "NOTA_MT                    0\n",
              "TP_LINGUA                  0\n",
              "TP_STATUS_REDACAO          0\n",
              "COMP1                      0\n",
              "COMP2                      0\n",
              "COMP3                      0\n",
              "COMP4                      0\n",
              "COMP5                      0\n",
              "NOTA_REDACAO               0\n",
              "INTERNET                   0\n",
              "dtype: int64"
            ],
            "text/html": [
              "<div>\n",
              "<style scoped>\n",
              "    .dataframe tbody tr th:only-of-type {\n",
              "        vertical-align: middle;\n",
              "    }\n",
              "\n",
              "    .dataframe tbody tr th {\n",
              "        vertical-align: top;\n",
              "    }\n",
              "\n",
              "    .dataframe thead th {\n",
              "        text-align: right;\n",
              "    }\n",
              "</style>\n",
              "<table border=\"1\" class=\"dataframe\">\n",
              "  <thead>\n",
              "    <tr style=\"text-align: right;\">\n",
              "      <th></th>\n",
              "      <th>0</th>\n",
              "    </tr>\n",
              "  </thead>\n",
              "  <tbody>\n",
              "    <tr>\n",
              "      <th>NU_INSCRICAO</th>\n",
              "      <td>0</td>\n",
              "    </tr>\n",
              "    <tr>\n",
              "      <th>NO_MUNICIPIO_RESIDENCIA</th>\n",
              "      <td>0</td>\n",
              "    </tr>\n",
              "    <tr>\n",
              "      <th>IDADE</th>\n",
              "      <td>0</td>\n",
              "    </tr>\n",
              "    <tr>\n",
              "      <th>SEXO</th>\n",
              "      <td>0</td>\n",
              "    </tr>\n",
              "    <tr>\n",
              "      <th>TP_ESTADO_CIVIL</th>\n",
              "      <td>0</td>\n",
              "    </tr>\n",
              "    <tr>\n",
              "      <th>RACA</th>\n",
              "      <td>0</td>\n",
              "    </tr>\n",
              "    <tr>\n",
              "      <th>TP_NACIONALIDADE</th>\n",
              "      <td>0</td>\n",
              "    </tr>\n",
              "    <tr>\n",
              "      <th>TP_ST_CONCLUSAO</th>\n",
              "      <td>0</td>\n",
              "    </tr>\n",
              "    <tr>\n",
              "      <th>ESCOLA</th>\n",
              "      <td>0</td>\n",
              "    </tr>\n",
              "    <tr>\n",
              "      <th>CO_ESCOLA</th>\n",
              "      <td>0</td>\n",
              "    </tr>\n",
              "    <tr>\n",
              "      <th>NO_MUNICIPIO_ESC</th>\n",
              "      <td>0</td>\n",
              "    </tr>\n",
              "    <tr>\n",
              "      <th>TP_PRESENCA_CN</th>\n",
              "      <td>0</td>\n",
              "    </tr>\n",
              "    <tr>\n",
              "      <th>TP_PRESENCA_CH</th>\n",
              "      <td>0</td>\n",
              "    </tr>\n",
              "    <tr>\n",
              "      <th>TP_PRESENCA_LC</th>\n",
              "      <td>0</td>\n",
              "    </tr>\n",
              "    <tr>\n",
              "      <th>TP_PRESENCA_MT</th>\n",
              "      <td>0</td>\n",
              "    </tr>\n",
              "    <tr>\n",
              "      <th>NOTA_CN</th>\n",
              "      <td>0</td>\n",
              "    </tr>\n",
              "    <tr>\n",
              "      <th>NOTA_CH</th>\n",
              "      <td>0</td>\n",
              "    </tr>\n",
              "    <tr>\n",
              "      <th>NOTA_LC</th>\n",
              "      <td>0</td>\n",
              "    </tr>\n",
              "    <tr>\n",
              "      <th>NOTA_MT</th>\n",
              "      <td>0</td>\n",
              "    </tr>\n",
              "    <tr>\n",
              "      <th>TP_LINGUA</th>\n",
              "      <td>0</td>\n",
              "    </tr>\n",
              "    <tr>\n",
              "      <th>TP_STATUS_REDACAO</th>\n",
              "      <td>0</td>\n",
              "    </tr>\n",
              "    <tr>\n",
              "      <th>COMP1</th>\n",
              "      <td>0</td>\n",
              "    </tr>\n",
              "    <tr>\n",
              "      <th>COMP2</th>\n",
              "      <td>0</td>\n",
              "    </tr>\n",
              "    <tr>\n",
              "      <th>COMP3</th>\n",
              "      <td>0</td>\n",
              "    </tr>\n",
              "    <tr>\n",
              "      <th>COMP4</th>\n",
              "      <td>0</td>\n",
              "    </tr>\n",
              "    <tr>\n",
              "      <th>COMP5</th>\n",
              "      <td>0</td>\n",
              "    </tr>\n",
              "    <tr>\n",
              "      <th>NOTA_REDACAO</th>\n",
              "      <td>0</td>\n",
              "    </tr>\n",
              "    <tr>\n",
              "      <th>INTERNET</th>\n",
              "      <td>0</td>\n",
              "    </tr>\n",
              "  </tbody>\n",
              "</table>\n",
              "</div><br><label><b>dtype:</b> int64</label>"
            ]
          },
          "metadata": {},
          "execution_count": 12
        }
      ]
    },
    {
      "cell_type": "markdown",
      "metadata": {
        "id": "Gp-LFhhXgxNo"
      },
      "source": [
        "3) Analisar outliers"
      ]
    },
    {
      "cell_type": "code",
      "metadata": {
        "id": "iVl4Du_PgwjE"
      },
      "source": [
        "import plotly.express as px"
      ],
      "execution_count": 14,
      "outputs": []
    },
    {
      "cell_type": "code",
      "metadata": {
        "id": "TL5yjLWKhH4c",
        "colab": {
          "base_uri": "https://localhost:8080/",
          "height": 542
        },
        "outputId": "2860235a-7848-4071-8862-30e6715a8e1b"
      },
      "source": [
        "grafico = px.box(colegioy, y=\"NOTA_REDACAO\")\n",
        "grafico.show()"
      ],
      "execution_count": 15,
      "outputs": [
        {
          "output_type": "display_data",
          "data": {
            "text/html": [
              "<html>\n",
              "<head><meta charset=\"utf-8\" /></head>\n",
              "<body>\n",
              "    <div>            <script src=\"https://cdnjs.cloudflare.com/ajax/libs/mathjax/2.7.5/MathJax.js?config=TeX-AMS-MML_SVG\"></script><script type=\"text/javascript\">if (window.MathJax && window.MathJax.Hub && window.MathJax.Hub.Config) {window.MathJax.Hub.Config({SVG: {font: \"STIX-Web\"}});}</script>                <script type=\"text/javascript\">window.PlotlyConfig = {MathJaxConfig: 'local'};</script>\n",
              "        <script charset=\"utf-8\" src=\"https://cdn.plot.ly/plotly-2.35.2.min.js\"></script>                <div id=\"47395b2a-d063-41e6-a8e3-d600a192b95b\" class=\"plotly-graph-div\" style=\"height:525px; width:100%;\"></div>            <script type=\"text/javascript\">                                    window.PLOTLYENV=window.PLOTLYENV || {};                                    if (document.getElementById(\"47395b2a-d063-41e6-a8e3-d600a192b95b\")) {                    Plotly.newPlot(                        \"47395b2a-d063-41e6-a8e3-d600a192b95b\",                        [{\"alignmentgroup\":\"True\",\"hovertemplate\":\"NOTA_REDACAO=%{y}\\u003cextra\\u003e\\u003c\\u002fextra\\u003e\",\"legendgroup\":\"\",\"marker\":{\"color\":\"#636efa\"},\"name\":\"\",\"notched\":false,\"offsetgroup\":\"\",\"orientation\":\"v\",\"showlegend\":false,\"x0\":\" \",\"xaxis\":\"x\",\"y\":[720.0,740.0,640.0,700.0,960.0,640.0,680.0,800.0,660.0,600.0,760.0,800.0,600.0,640.0,640.0,740.0,880.0,760.0,840.0,720.0,740.0,860.0,720.0,660.0,840.0,640.0,640.0,640.0,600.0,620.0],\"y0\":\" \",\"yaxis\":\"y\",\"type\":\"box\"}],                        {\"template\":{\"data\":{\"histogram2dcontour\":[{\"type\":\"histogram2dcontour\",\"colorbar\":{\"outlinewidth\":0,\"ticks\":\"\"},\"colorscale\":[[0.0,\"#0d0887\"],[0.1111111111111111,\"#46039f\"],[0.2222222222222222,\"#7201a8\"],[0.3333333333333333,\"#9c179e\"],[0.4444444444444444,\"#bd3786\"],[0.5555555555555556,\"#d8576b\"],[0.6666666666666666,\"#ed7953\"],[0.7777777777777778,\"#fb9f3a\"],[0.8888888888888888,\"#fdca26\"],[1.0,\"#f0f921\"]]}],\"choropleth\":[{\"type\":\"choropleth\",\"colorbar\":{\"outlinewidth\":0,\"ticks\":\"\"}}],\"histogram2d\":[{\"type\":\"histogram2d\",\"colorbar\":{\"outlinewidth\":0,\"ticks\":\"\"},\"colorscale\":[[0.0,\"#0d0887\"],[0.1111111111111111,\"#46039f\"],[0.2222222222222222,\"#7201a8\"],[0.3333333333333333,\"#9c179e\"],[0.4444444444444444,\"#bd3786\"],[0.5555555555555556,\"#d8576b\"],[0.6666666666666666,\"#ed7953\"],[0.7777777777777778,\"#fb9f3a\"],[0.8888888888888888,\"#fdca26\"],[1.0,\"#f0f921\"]]}],\"heatmap\":[{\"type\":\"heatmap\",\"colorbar\":{\"outlinewidth\":0,\"ticks\":\"\"},\"colorscale\":[[0.0,\"#0d0887\"],[0.1111111111111111,\"#46039f\"],[0.2222222222222222,\"#7201a8\"],[0.3333333333333333,\"#9c179e\"],[0.4444444444444444,\"#bd3786\"],[0.5555555555555556,\"#d8576b\"],[0.6666666666666666,\"#ed7953\"],[0.7777777777777778,\"#fb9f3a\"],[0.8888888888888888,\"#fdca26\"],[1.0,\"#f0f921\"]]}],\"heatmapgl\":[{\"type\":\"heatmapgl\",\"colorbar\":{\"outlinewidth\":0,\"ticks\":\"\"},\"colorscale\":[[0.0,\"#0d0887\"],[0.1111111111111111,\"#46039f\"],[0.2222222222222222,\"#7201a8\"],[0.3333333333333333,\"#9c179e\"],[0.4444444444444444,\"#bd3786\"],[0.5555555555555556,\"#d8576b\"],[0.6666666666666666,\"#ed7953\"],[0.7777777777777778,\"#fb9f3a\"],[0.8888888888888888,\"#fdca26\"],[1.0,\"#f0f921\"]]}],\"contourcarpet\":[{\"type\":\"contourcarpet\",\"colorbar\":{\"outlinewidth\":0,\"ticks\":\"\"}}],\"contour\":[{\"type\":\"contour\",\"colorbar\":{\"outlinewidth\":0,\"ticks\":\"\"},\"colorscale\":[[0.0,\"#0d0887\"],[0.1111111111111111,\"#46039f\"],[0.2222222222222222,\"#7201a8\"],[0.3333333333333333,\"#9c179e\"],[0.4444444444444444,\"#bd3786\"],[0.5555555555555556,\"#d8576b\"],[0.6666666666666666,\"#ed7953\"],[0.7777777777777778,\"#fb9f3a\"],[0.8888888888888888,\"#fdca26\"],[1.0,\"#f0f921\"]]}],\"surface\":[{\"type\":\"surface\",\"colorbar\":{\"outlinewidth\":0,\"ticks\":\"\"},\"colorscale\":[[0.0,\"#0d0887\"],[0.1111111111111111,\"#46039f\"],[0.2222222222222222,\"#7201a8\"],[0.3333333333333333,\"#9c179e\"],[0.4444444444444444,\"#bd3786\"],[0.5555555555555556,\"#d8576b\"],[0.6666666666666666,\"#ed7953\"],[0.7777777777777778,\"#fb9f3a\"],[0.8888888888888888,\"#fdca26\"],[1.0,\"#f0f921\"]]}],\"mesh3d\":[{\"type\":\"mesh3d\",\"colorbar\":{\"outlinewidth\":0,\"ticks\":\"\"}}],\"scatter\":[{\"fillpattern\":{\"fillmode\":\"overlay\",\"size\":10,\"solidity\":0.2},\"type\":\"scatter\"}],\"parcoords\":[{\"type\":\"parcoords\",\"line\":{\"colorbar\":{\"outlinewidth\":0,\"ticks\":\"\"}}}],\"scatterpolargl\":[{\"type\":\"scatterpolargl\",\"marker\":{\"colorbar\":{\"outlinewidth\":0,\"ticks\":\"\"}}}],\"bar\":[{\"error_x\":{\"color\":\"#2a3f5f\"},\"error_y\":{\"color\":\"#2a3f5f\"},\"marker\":{\"line\":{\"color\":\"#E5ECF6\",\"width\":0.5},\"pattern\":{\"fillmode\":\"overlay\",\"size\":10,\"solidity\":0.2}},\"type\":\"bar\"}],\"scattergeo\":[{\"type\":\"scattergeo\",\"marker\":{\"colorbar\":{\"outlinewidth\":0,\"ticks\":\"\"}}}],\"scatterpolar\":[{\"type\":\"scatterpolar\",\"marker\":{\"colorbar\":{\"outlinewidth\":0,\"ticks\":\"\"}}}],\"histogram\":[{\"marker\":{\"pattern\":{\"fillmode\":\"overlay\",\"size\":10,\"solidity\":0.2}},\"type\":\"histogram\"}],\"scattergl\":[{\"type\":\"scattergl\",\"marker\":{\"colorbar\":{\"outlinewidth\":0,\"ticks\":\"\"}}}],\"scatter3d\":[{\"type\":\"scatter3d\",\"line\":{\"colorbar\":{\"outlinewidth\":0,\"ticks\":\"\"}},\"marker\":{\"colorbar\":{\"outlinewidth\":0,\"ticks\":\"\"}}}],\"scattermapbox\":[{\"type\":\"scattermapbox\",\"marker\":{\"colorbar\":{\"outlinewidth\":0,\"ticks\":\"\"}}}],\"scatterternary\":[{\"type\":\"scatterternary\",\"marker\":{\"colorbar\":{\"outlinewidth\":0,\"ticks\":\"\"}}}],\"scattercarpet\":[{\"type\":\"scattercarpet\",\"marker\":{\"colorbar\":{\"outlinewidth\":0,\"ticks\":\"\"}}}],\"carpet\":[{\"aaxis\":{\"endlinecolor\":\"#2a3f5f\",\"gridcolor\":\"white\",\"linecolor\":\"white\",\"minorgridcolor\":\"white\",\"startlinecolor\":\"#2a3f5f\"},\"baxis\":{\"endlinecolor\":\"#2a3f5f\",\"gridcolor\":\"white\",\"linecolor\":\"white\",\"minorgridcolor\":\"white\",\"startlinecolor\":\"#2a3f5f\"},\"type\":\"carpet\"}],\"table\":[{\"cells\":{\"fill\":{\"color\":\"#EBF0F8\"},\"line\":{\"color\":\"white\"}},\"header\":{\"fill\":{\"color\":\"#C8D4E3\"},\"line\":{\"color\":\"white\"}},\"type\":\"table\"}],\"barpolar\":[{\"marker\":{\"line\":{\"color\":\"#E5ECF6\",\"width\":0.5},\"pattern\":{\"fillmode\":\"overlay\",\"size\":10,\"solidity\":0.2}},\"type\":\"barpolar\"}],\"pie\":[{\"automargin\":true,\"type\":\"pie\"}]},\"layout\":{\"autotypenumbers\":\"strict\",\"colorway\":[\"#636efa\",\"#EF553B\",\"#00cc96\",\"#ab63fa\",\"#FFA15A\",\"#19d3f3\",\"#FF6692\",\"#B6E880\",\"#FF97FF\",\"#FECB52\"],\"font\":{\"color\":\"#2a3f5f\"},\"hovermode\":\"closest\",\"hoverlabel\":{\"align\":\"left\"},\"paper_bgcolor\":\"white\",\"plot_bgcolor\":\"#E5ECF6\",\"polar\":{\"bgcolor\":\"#E5ECF6\",\"angularaxis\":{\"gridcolor\":\"white\",\"linecolor\":\"white\",\"ticks\":\"\"},\"radialaxis\":{\"gridcolor\":\"white\",\"linecolor\":\"white\",\"ticks\":\"\"}},\"ternary\":{\"bgcolor\":\"#E5ECF6\",\"aaxis\":{\"gridcolor\":\"white\",\"linecolor\":\"white\",\"ticks\":\"\"},\"baxis\":{\"gridcolor\":\"white\",\"linecolor\":\"white\",\"ticks\":\"\"},\"caxis\":{\"gridcolor\":\"white\",\"linecolor\":\"white\",\"ticks\":\"\"}},\"coloraxis\":{\"colorbar\":{\"outlinewidth\":0,\"ticks\":\"\"}},\"colorscale\":{\"sequential\":[[0.0,\"#0d0887\"],[0.1111111111111111,\"#46039f\"],[0.2222222222222222,\"#7201a8\"],[0.3333333333333333,\"#9c179e\"],[0.4444444444444444,\"#bd3786\"],[0.5555555555555556,\"#d8576b\"],[0.6666666666666666,\"#ed7953\"],[0.7777777777777778,\"#fb9f3a\"],[0.8888888888888888,\"#fdca26\"],[1.0,\"#f0f921\"]],\"sequentialminus\":[[0.0,\"#0d0887\"],[0.1111111111111111,\"#46039f\"],[0.2222222222222222,\"#7201a8\"],[0.3333333333333333,\"#9c179e\"],[0.4444444444444444,\"#bd3786\"],[0.5555555555555556,\"#d8576b\"],[0.6666666666666666,\"#ed7953\"],[0.7777777777777778,\"#fb9f3a\"],[0.8888888888888888,\"#fdca26\"],[1.0,\"#f0f921\"]],\"diverging\":[[0,\"#8e0152\"],[0.1,\"#c51b7d\"],[0.2,\"#de77ae\"],[0.3,\"#f1b6da\"],[0.4,\"#fde0ef\"],[0.5,\"#f7f7f7\"],[0.6,\"#e6f5d0\"],[0.7,\"#b8e186\"],[0.8,\"#7fbc41\"],[0.9,\"#4d9221\"],[1,\"#276419\"]]},\"xaxis\":{\"gridcolor\":\"white\",\"linecolor\":\"white\",\"ticks\":\"\",\"title\":{\"standoff\":15},\"zerolinecolor\":\"white\",\"automargin\":true,\"zerolinewidth\":2},\"yaxis\":{\"gridcolor\":\"white\",\"linecolor\":\"white\",\"ticks\":\"\",\"title\":{\"standoff\":15},\"zerolinecolor\":\"white\",\"automargin\":true,\"zerolinewidth\":2},\"scene\":{\"xaxis\":{\"backgroundcolor\":\"#E5ECF6\",\"gridcolor\":\"white\",\"linecolor\":\"white\",\"showbackground\":true,\"ticks\":\"\",\"zerolinecolor\":\"white\",\"gridwidth\":2},\"yaxis\":{\"backgroundcolor\":\"#E5ECF6\",\"gridcolor\":\"white\",\"linecolor\":\"white\",\"showbackground\":true,\"ticks\":\"\",\"zerolinecolor\":\"white\",\"gridwidth\":2},\"zaxis\":{\"backgroundcolor\":\"#E5ECF6\",\"gridcolor\":\"white\",\"linecolor\":\"white\",\"showbackground\":true,\"ticks\":\"\",\"zerolinecolor\":\"white\",\"gridwidth\":2}},\"shapedefaults\":{\"line\":{\"color\":\"#2a3f5f\"}},\"annotationdefaults\":{\"arrowcolor\":\"#2a3f5f\",\"arrowhead\":0,\"arrowwidth\":1},\"geo\":{\"bgcolor\":\"white\",\"landcolor\":\"#E5ECF6\",\"subunitcolor\":\"white\",\"showland\":true,\"showlakes\":true,\"lakecolor\":\"white\"},\"title\":{\"x\":0.05},\"mapbox\":{\"style\":\"light\"}}},\"xaxis\":{\"anchor\":\"y\",\"domain\":[0.0,1.0]},\"yaxis\":{\"anchor\":\"x\",\"domain\":[0.0,1.0],\"title\":{\"text\":\"NOTA_REDACAO\"}},\"legend\":{\"tracegroupgap\":0},\"margin\":{\"t\":60},\"boxmode\":\"group\"},                        {\"responsive\": true}                    ).then(function(){\n",
              "                            \n",
              "var gd = document.getElementById('47395b2a-d063-41e6-a8e3-d600a192b95b');\n",
              "var x = new MutationObserver(function (mutations, observer) {{\n",
              "        var display = window.getComputedStyle(gd).display;\n",
              "        if (!display || display === 'none') {{\n",
              "            console.log([gd, 'removed!']);\n",
              "            Plotly.purge(gd);\n",
              "            observer.disconnect();\n",
              "        }}\n",
              "}});\n",
              "\n",
              "// Listen for the removal of the full notebook cells\n",
              "var notebookContainer = gd.closest('#notebook-container');\n",
              "if (notebookContainer) {{\n",
              "    x.observe(notebookContainer, {childList: true});\n",
              "}}\n",
              "\n",
              "// Listen for the clearing of the current output cell\n",
              "var outputEl = gd.closest('.output');\n",
              "if (outputEl) {{\n",
              "    x.observe(outputEl, {childList: true});\n",
              "}}\n",
              "\n",
              "                        })                };                            </script>        </div>\n",
              "</body>\n",
              "</html>"
            ]
          },
          "metadata": {}
        }
      ]
    },
    {
      "cell_type": "markdown",
      "metadata": {
        "id": "KSbhsCFohR9O"
      },
      "source": [
        "4) Analisar Normalidade"
      ]
    },
    {
      "cell_type": "code",
      "metadata": {
        "id": "89NBIIl9jHFZ"
      },
      "source": [
        "import scipy.stats as stats\n",
        "import matplotlib.pyplot as plt"
      ],
      "execution_count": 16,
      "outputs": []
    },
    {
      "cell_type": "code",
      "metadata": {
        "id": "C8sjAI4tjQaW",
        "colab": {
          "base_uri": "https://localhost:8080/",
          "height": 472
        },
        "outputId": "061f5939-8e73-4aba-d7a8-d86c7225a927"
      },
      "source": [
        "stats.probplot(colegioy['NOTA_REDACAO'], dist=\"norm\", plot=plt)\n",
        "plt.title(\"Normal QQ plot\")\n",
        "plt.show()"
      ],
      "execution_count": 17,
      "outputs": [
        {
          "output_type": "display_data",
          "data": {
            "text/plain": [
              "<Figure size 640x480 with 1 Axes>"
            ],
            "image/png": "[encoded data removed]"
          },
          "metadata": {}
        }
      ]
    },
    {
      "cell_type": "markdown",
      "metadata": {
        "id": "Y7ax_KNLh_3F"
      },
      "source": [
        "CRITÉRIOS:\n",
        "\n",
        "NÍVEL DE SIGNIFICÂNCIA DE 0,05 ou 5% (MAIS UTILIZADO).\n",
        "\n",
        "Ho = distribuição é IGUAL à normal (p > 0,05).\n",
        "\n",
        "Ha = distribuição é DIFERENTE DA NORMAL (p <= 0,05)."
      ]
    },
    {
      "cell_type": "code",
      "metadata": {
        "id": "WuMuvFNkmJ9A"
      },
      "source": [
        "import statsmodels\n",
        "from statsmodels.stats.diagnostic import lilliefors\n",
        "import scipy.stats as stats"
      ],
      "execution_count": 18,
      "outputs": []
    },
    {
      "cell_type": "code",
      "metadata": {
        "id": "XtO7hcxHk-_6",
        "colab": {
          "base_uri": "https://localhost:8080/"
        },
        "outputId": "9f48b01c-4d4b-4f4d-e52f-b4eda0eff5f8"
      },
      "source": [
        "# Teste Lilliefors (Kolmogorov_Sminorv)\n",
        "statsmodels.stats.diagnostic.lilliefors(colegioy.NOTA_REDACAO, dist = 'norm')"
      ],
      "execution_count": 19,
      "outputs": [
        {
          "output_type": "execute_result",
          "data": {
            "text/plain": [
              "(np.float64(0.15794211976028916), np.float64(0.052842042822119004))"
            ]
          },
          "metadata": {},
          "execution_count": 19
        }
      ]
    },
    {
      "cell_type": "code",
      "metadata": {
        "id": "uAwCqFApomAk",
        "colab": {
          "base_uri": "https://localhost:8080/"
        },
        "outputId": "18e07200-0f2b-4005-94a7-2ece7e55fac4"
      },
      "source": [
        "# Teste Shapiro-Wilk\n",
        "stats.shapiro(colegioy.NOTA_REDACAO)"
      ],
      "execution_count": 20,
      "outputs": [
        {
          "output_type": "execute_result",
          "data": {
            "text/plain": [
              "ShapiroResult(statistic=np.float64(0.9185916932947775), pvalue=np.float64(0.024660758263151155))"
            ]
          },
          "metadata": {},
          "execution_count": 20
        }
      ]
    },
    {
      "cell_type": "markdown",
      "source": [
        "## **TESTE Z**"
      ],
      "metadata": {
        "id": "x7n17KdR3rVD"
      }
    },
    {
      "cell_type": "markdown",
      "source": [
        "AFIRMAÇÃO:\n",
        "Média das notas do colégio é igual a média do Estado de São Paulo."
      ],
      "metadata": {
        "id": "2cHIPU4X37o6"
      }
    },
    {
      "cell_type": "markdown",
      "source": [
        "Ho = média é igual a de São Paulo : p > 0.05\n",
        "\n",
        "Ha = média é diferente da de São Paulo : p <= 0.05"
      ],
      "metadata": {
        "id": "7SS8zBho25Pd"
      }
    },
    {
      "cell_type": "code",
      "source": [
        "from statsmodels.stats.weightstats import ztest"
      ],
      "metadata": {
        "id": "T4it_DZt2dhu"
      },
      "execution_count": 21,
      "outputs": []
    },
    {
      "cell_type": "code",
      "metadata": {
        "id": "UayD_YpcszlW",
        "colab": {
          "base_uri": "https://localhost:8080/",
          "height": 335
        },
        "outputId": "57959502-2602-441d-88cc-76e6f6669dfe"
      },
      "source": [
        "enem_sp.NOTA_REDACAO.describe()"
      ],
      "execution_count": 22,
      "outputs": [
        {
          "output_type": "execute_result",
          "data": {
            "text/plain": [
              "count    499940.000000\n",
              "mean        593.018322\n",
              "std         170.536724\n",
              "min           0.000000\n",
              "25%         500.000000\n",
              "50%         600.000000\n",
              "75%         680.000000\n",
              "max        1000.000000\n",
              "Name: NOTA_REDACAO, dtype: float64"
            ],
            "text/html": [
              "<div>\n",
              "<style scoped>\n",
              "    .dataframe tbody tr th:only-of-type {\n",
              "        vertical-align: middle;\n",
              "    }\n",
              "\n",
              "    .dataframe tbody tr th {\n",
              "        vertical-align: top;\n",
              "    }\n",
              "\n",
              "    .dataframe thead th {\n",
              "        text-align: right;\n",
              "    }\n",
              "</style>\n",
              "<table border=\"1\" class=\"dataframe\">\n",
              "  <thead>\n",
              "    <tr style=\"text-align: right;\">\n",
              "      <th></th>\n",
              "      <th>NOTA_REDACAO</th>\n",
              "    </tr>\n",
              "  </thead>\n",
              "  <tbody>\n",
              "    <tr>\n",
              "      <th>count</th>\n",
              "      <td>499940.000000</td>\n",
              "    </tr>\n",
              "    <tr>\n",
              "      <th>mean</th>\n",
              "      <td>593.018322</td>\n",
              "    </tr>\n",
              "    <tr>\n",
              "      <th>std</th>\n",
              "      <td>170.536724</td>\n",
              "    </tr>\n",
              "    <tr>\n",
              "      <th>min</th>\n",
              "      <td>0.000000</td>\n",
              "    </tr>\n",
              "    <tr>\n",
              "      <th>25%</th>\n",
              "      <td>500.000000</td>\n",
              "    </tr>\n",
              "    <tr>\n",
              "      <th>50%</th>\n",
              "      <td>600.000000</td>\n",
              "    </tr>\n",
              "    <tr>\n",
              "      <th>75%</th>\n",
              "      <td>680.000000</td>\n",
              "    </tr>\n",
              "    <tr>\n",
              "      <th>max</th>\n",
              "      <td>1000.000000</td>\n",
              "    </tr>\n",
              "  </tbody>\n",
              "</table>\n",
              "</div><br><label><b>dtype:</b> float64</label>"
            ]
          },
          "metadata": {},
          "execution_count": 22
        }
      ]
    },
    {
      "cell_type": "code",
      "source": [
        "stat, p = ztest(colegioy['NOTA_REDACAO'], value=593.0183221986639 )\n",
        "print('Estatística de teste: {}'.format(stat.round(2)))\n",
        "print('p-valor: {}'.format(p))"
      ],
      "metadata": {
        "id": "MEbvQBI-2k6V",
        "colab": {
          "base_uri": "https://localhost:8080/"
        },
        "outputId": "78930e3d-bc96-4df2-b5ee-7f81f601d889"
      },
      "execution_count": 23,
      "outputs": [
        {
          "output_type": "stream",
          "name": "stdout",
          "text": [
            "Estatística de teste: 7.18\n",
            "p-valor: 7.173582254695279e-13\n"
          ]
        }
      ]
    },
    {
      "cell_type": "markdown",
      "source": [
        "**INTERPRETAÇÃO:**\n",
        "\n",
        "Teste estatístico: t = 7,18\n",
        "\n",
        "p_valor = 7.17e-13\n",
        "\n",
        "Conclusão: No nível de significância de 5%, há evidências para afirmar que a média do colégio y é diferente da média do Estado de São Paulo."
      ],
      "metadata": {
        "id": "w-fuZJcx7eUA"
      }
    },
    {
      "cell_type": "markdown",
      "metadata": {
        "id": "4rmFTSIiiUGV"
      },
      "source": [
        "## **TESTE t**\n"
      ]
    },
    {
      "cell_type": "markdown",
      "metadata": {
        "id": "IAnRzT0_xGiN"
      },
      "source": [
        "Ho = média é igual a de São Paulo : p > 0.05\n",
        "\n",
        "Ha = média é diferente da de São Paulo : p <= 0.05"
      ]
    },
    {
      "cell_type": "code",
      "metadata": {
        "id": "vJ9fMU6Sy2bp"
      },
      "source": [
        "import scipy.stats as stats"
      ],
      "execution_count": 24,
      "outputs": []
    },
    {
      "cell_type": "code",
      "metadata": {
        "id": "f4Owd2zjccOM",
        "colab": {
          "base_uri": "https://localhost:8080/"
        },
        "outputId": "132fed20-083c-4ca8-ed78-90005c2e4769"
      },
      "source": [
        "stat, p = stats.ttest_1samp(colegioy['NOTA_REDACAO'], popmean=593.018)\n",
        "print('Estatística de teste: {}'.format(stat.round(2)))\n",
        "print('p-valor: {}'.format(p.round(10)))"
      ],
      "execution_count": 26,
      "outputs": [
        {
          "output_type": "stream",
          "name": "stdout",
          "text": [
            "Estatística de teste: 7.18\n",
            "p-valor: 6.72e-08\n"
          ]
        }
      ]
    },
    {
      "cell_type": "markdown",
      "metadata": {
        "id": "Oanhqgecveuo"
      },
      "source": [
        "**INTERPRETAÇÃO:**\n",
        "\n",
        "Teste estatístico: t = 7,18\n",
        "\n",
        "p_valor = 6.72e-08\n",
        "\n",
        "Conclusão: No nível de significânciaa de 5%, há evidências para afirmar que a média do colégio y é diferente da média do Estado de São Paulo.\n",
        "\n"
      ]
    },
    {
      "cell_type": "markdown",
      "source": [
        "**Região de aceitação/rejeição**"
      ],
      "metadata": {
        "id": "qBaAmp7_owqo"
      }
    },
    {
      "cell_type": "markdown",
      "source": [
        "**Valores críticos**"
      ],
      "metadata": {
        "id": "4TUpswbho8Zf"
      }
    },
    {
      "cell_type": "code",
      "source": [
        "from scipy.stats import norm\n",
        "\n",
        "alpha = 0.05\n",
        "\n",
        "# Cálculo do z crítico Bicaudal\n",
        "z_cri_B = norm.ppf(1 - alpha / 2)\n",
        "# Cálculo do z crítico Unicaudal\n",
        "z_cri_U = norm.ppf(1 - alpha)\n",
        "\n",
        "print(\"Z crítico bicaudal:\", z_cri_B)\n",
        "print(\"Z crítico Unicaudal:\", z_cri_U)"
      ],
      "metadata": {
        "id": "d4_2D6XBnI5y",
        "colab": {
          "base_uri": "https://localhost:8080/"
        },
        "outputId": "9b245540-cc02-442e-aa04-e300853cd9cb"
      },
      "execution_count": 27,
      "outputs": [
        {
          "output_type": "stream",
          "name": "stdout",
          "text": [
            "Z crítico bicaudal: 1.959963984540054\n",
            "Z crítico Unicaudal: 1.6448536269514722\n"
          ]
        }
      ]
    },
    {
      "cell_type": "markdown",
      "source": [
        "**Cálculo de Z**"
      ],
      "metadata": {
        "id": "WLWL-nKHqB2R"
      }
    },
    {
      "cell_type": "code",
      "metadata": {
        "id": "jZ4-NBl5utSZ",
        "colab": {
          "base_uri": "https://localhost:8080/",
          "height": 335
        },
        "outputId": "bb84c7b7-1238-40b9-af4d-cc1cfba24687"
      },
      "source": [
        "colegioy.NOTA_REDACAO.describe()"
      ],
      "execution_count": 28,
      "outputs": [
        {
          "output_type": "execute_result",
          "data": {
            "text/plain": [
              "count     30.000000\n",
              "mean     716.000000\n",
              "std       93.867111\n",
              "min      600.000000\n",
              "25%      640.000000\n",
              "50%      710.000000\n",
              "75%      760.000000\n",
              "max      960.000000\n",
              "Name: NOTA_REDACAO, dtype: float64"
            ],
            "text/html": [
              "<div>\n",
              "<style scoped>\n",
              "    .dataframe tbody tr th:only-of-type {\n",
              "        vertical-align: middle;\n",
              "    }\n",
              "\n",
              "    .dataframe tbody tr th {\n",
              "        vertical-align: top;\n",
              "    }\n",
              "\n",
              "    .dataframe thead th {\n",
              "        text-align: right;\n",
              "    }\n",
              "</style>\n",
              "<table border=\"1\" class=\"dataframe\">\n",
              "  <thead>\n",
              "    <tr style=\"text-align: right;\">\n",
              "      <th></th>\n",
              "      <th>NOTA_REDACAO</th>\n",
              "    </tr>\n",
              "  </thead>\n",
              "  <tbody>\n",
              "    <tr>\n",
              "      <th>count</th>\n",
              "      <td>30.000000</td>\n",
              "    </tr>\n",
              "    <tr>\n",
              "      <th>mean</th>\n",
              "      <td>716.000000</td>\n",
              "    </tr>\n",
              "    <tr>\n",
              "      <th>std</th>\n",
              "      <td>93.867111</td>\n",
              "    </tr>\n",
              "    <tr>\n",
              "      <th>min</th>\n",
              "      <td>600.000000</td>\n",
              "    </tr>\n",
              "    <tr>\n",
              "      <th>25%</th>\n",
              "      <td>640.000000</td>\n",
              "    </tr>\n",
              "    <tr>\n",
              "      <th>50%</th>\n",
              "      <td>710.000000</td>\n",
              "    </tr>\n",
              "    <tr>\n",
              "      <th>75%</th>\n",
              "      <td>760.000000</td>\n",
              "    </tr>\n",
              "    <tr>\n",
              "      <th>max</th>\n",
              "      <td>960.000000</td>\n",
              "    </tr>\n",
              "  </tbody>\n",
              "</table>\n",
              "</div><br><label><b>dtype:</b> float64</label>"
            ]
          },
          "metadata": {},
          "execution_count": 28
        }
      ]
    },
    {
      "cell_type": "code",
      "source": [
        "enem_sp.NOTA_REDACAO.describe()"
      ],
      "metadata": {
        "id": "50gEEWGbp1TD",
        "colab": {
          "base_uri": "https://localhost:8080/",
          "height": 335
        },
        "outputId": "5abf598c-5fda-4d51-8a43-b5c1154de5c7"
      },
      "execution_count": 29,
      "outputs": [
        {
          "output_type": "execute_result",
          "data": {
            "text/plain": [
              "count    499940.000000\n",
              "mean        593.018322\n",
              "std         170.536724\n",
              "min           0.000000\n",
              "25%         500.000000\n",
              "50%         600.000000\n",
              "75%         680.000000\n",
              "max        1000.000000\n",
              "Name: NOTA_REDACAO, dtype: float64"
            ],
            "text/html": [
              "<div>\n",
              "<style scoped>\n",
              "    .dataframe tbody tr th:only-of-type {\n",
              "        vertical-align: middle;\n",
              "    }\n",
              "\n",
              "    .dataframe tbody tr th {\n",
              "        vertical-align: top;\n",
              "    }\n",
              "\n",
              "    .dataframe thead th {\n",
              "        text-align: right;\n",
              "    }\n",
              "</style>\n",
              "<table border=\"1\" class=\"dataframe\">\n",
              "  <thead>\n",
              "    <tr style=\"text-align: right;\">\n",
              "      <th></th>\n",
              "      <th>NOTA_REDACAO</th>\n",
              "    </tr>\n",
              "  </thead>\n",
              "  <tbody>\n",
              "    <tr>\n",
              "      <th>count</th>\n",
              "      <td>499940.000000</td>\n",
              "    </tr>\n",
              "    <tr>\n",
              "      <th>mean</th>\n",
              "      <td>593.018322</td>\n",
              "    </tr>\n",
              "    <tr>\n",
              "      <th>std</th>\n",
              "      <td>170.536724</td>\n",
              "    </tr>\n",
              "    <tr>\n",
              "      <th>min</th>\n",
              "      <td>0.000000</td>\n",
              "    </tr>\n",
              "    <tr>\n",
              "      <th>25%</th>\n",
              "      <td>500.000000</td>\n",
              "    </tr>\n",
              "    <tr>\n",
              "      <th>50%</th>\n",
              "      <td>600.000000</td>\n",
              "    </tr>\n",
              "    <tr>\n",
              "      <th>75%</th>\n",
              "      <td>680.000000</td>\n",
              "    </tr>\n",
              "    <tr>\n",
              "      <th>max</th>\n",
              "      <td>1000.000000</td>\n",
              "    </tr>\n",
              "  </tbody>\n",
              "</table>\n",
              "</div><br><label><b>dtype:</b> float64</label>"
            ]
          },
          "metadata": {},
          "execution_count": 29
        }
      ]
    },
    {
      "cell_type": "code",
      "source": [
        "z=(colegioy.NOTA_REDACAO.mean()-enem_sp.NOTA_REDACAO.mean())/(enem_sp.NOTA_REDACAO.std()/(len(colegioy))**(1/2))\n",
        "z"
      ],
      "metadata": {
        "id": "BqRUkUU7on8-",
        "colab": {
          "base_uri": "https://localhost:8080/"
        },
        "outputId": "f2f6b12a-0da0-4f07-a9ab-8f3599737e0f"
      },
      "execution_count": 30,
      "outputs": [
        {
          "output_type": "execute_result",
          "data": {
            "text/plain": [
              "np.float64(3.949872944602585)"
            ]
          },
          "metadata": {},
          "execution_count": 30
        }
      ]
    }
  ]
}