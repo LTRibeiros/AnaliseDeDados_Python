{
  "nbformat": 4,
  "nbformat_minor": 0,
  "metadata": {
    "colab": {
      "provenance": [],
      "mount_file_id": "1_D_ueuwBoejHZaOCbbfkkCaJ9BqpQgh5",
      "authorship_tag": "ABX9TyOml8TwrfA4/mZhWh1zup/0",
      "include_colab_link": true
    },
    "kernelspec": {
      "name": "python3",
      "display_name": "Python 3"
    },
    "language_info": {
      "name": "python"
    }
  },
  "cells": [
    {
      "cell_type": "markdown",
      "metadata": {
        "id": "view-in-github",
        "colab_type": "text"
      },
      "source": [
        "<a href=\"https://colab.research.google.com/github/LTRibeiros/AnaliseDeDados_Python/blob/main/aula5.ipynb\" target=\"_parent\"><img src=\"https://colab.research.google.com/assets/colab-badge.svg\" alt=\"Open In Colab\"/></a>"
      ]
    },
    {
      "cell_type": "code",
      "execution_count": 2,
      "metadata": {
        "id": "YGY2lkX8Fao9"
      },
      "outputs": [],
      "source": [
        "import numpy as np\n",
        "import pandas as pd"
      ]
    },
    {
      "cell_type": "code",
      "source": [
        "enem_sp = pd.read_csv('/content/drive/MyDrive/enem_2019_tratado.csv', sep=',', encoding='iso-8859-1')"
      ],
      "metadata": {
        "id": "55FTaFuVGS1-"
      },
      "execution_count": 3,
      "outputs": []
    },
    {
      "cell_type": "code",
      "source": [
        "enem_sp['IDADE']. mean()"
      ],
      "metadata": {
        "colab": {
          "base_uri": "https://localhost:8080/"
        },
        "id": "J3O-nwlaRqY2",
        "outputId": "3607dade-294e-444c-d997-8753ec758a87"
      },
      "execution_count": 4,
      "outputs": [
        {
          "output_type": "execute_result",
          "data": {
            "text/plain": [
              "np.float64(20.593387206464776)"
            ]
          },
          "metadata": {},
          "execution_count": 4
        }
      ]
    },
    {
      "cell_type": "code",
      "source": [
        "enem_sp.shape"
      ],
      "metadata": {
        "colab": {
          "base_uri": "https://localhost:8080/"
        },
        "id": "trJy5qajGV7F",
        "outputId": "52a12bbd-7fcc-4c8e-8a99-0cc7049ecf0d"
      },
      "execution_count": 5,
      "outputs": [
        {
          "output_type": "execute_result",
          "data": {
            "text/plain": [
              "(499940, 28)"
            ]
          },
          "metadata": {},
          "execution_count": 5
        }
      ]
    },
    {
      "cell_type": "code",
      "source": [
        "enem_sp.head(100)"
      ],
      "metadata": {
        "colab": {
          "base_uri": "https://localhost:8080/",
          "height": 444
        },
        "id": "mrl8nHgeGYYF",
        "outputId": "5f98dbca-36b9-4261-bdb3-280fc3d63f28"
      },
      "execution_count": 24,
      "outputs": [
        {
          "output_type": "execute_result",
          "data": {
            "text/plain": [
              "   NU_INSCRICAO NO_MUNICIPIO_RESIDENCIA  IDADE SEXO  TP_ESTADO_CIVIL    RACA  \\\n",
              "0      1,90E+11            Santa Isabel     22    M                1   parda   \n",
              "1      1,90E+11               São Paulo     17    F                1   parda   \n",
              "2      1,90E+11   São Bernardo do Campo     19    M                1   parda   \n",
              "3      1,90E+11              Embu-Guaçu     17    F                1   parda   \n",
              "4      1,90E+11               Guarulhos     23    F                1  branca   \n",
              "..          ...                     ...    ...  ...              ...     ...   \n",
              "95     1,90E+11          Ribeirão Preto     19    M                1  branca   \n",
              "96     1,90E+11                Cruzeiro     20    F                1   preta   \n",
              "97     1,90E+11            Luís Antônio     18    F                1  branca   \n",
              "98     1,90E+11                 Barueri     25    F                1   preta   \n",
              "99     1,90E+11             Jaboticabal     19    M                1   preta   \n",
              "\n",
              "    TP_NACIONALIDADE  TP_ST_CONCLUSAO         ESCOLA   CO_ESCOLA  ... NOTA_MT  \\\n",
              "0                  1                1  não_respondeu         NaN  ...   600.2   \n",
              "1                  1                2        privada  15567761.0  ...   731.8   \n",
              "2                  1                2        pública  35904958.0  ...   393.2   \n",
              "3                  1                2        pública         NaN  ...   419.2   \n",
              "4                  1                1  não_respondeu         NaN  ...   796.1   \n",
              "..               ...              ...            ...         ...  ...     ...   \n",
              "95                 1                1  não_respondeu         NaN  ...   824.9   \n",
              "96                 1                1  não_respondeu         NaN  ...   692.6   \n",
              "97                 1                1  não_respondeu         NaN  ...   648.7   \n",
              "98                 1                1  não_respondeu         NaN  ...    36.8   \n",
              "99                 1                1  não_respondeu         NaN  ...   431.1   \n",
              "\n",
              "    TP_LINGUA  TP_STATUS_REDACAO  COMP1  COMP2  COMP3  COMP4  COMP5  \\\n",
              "0      Inglês                1.0  160.0  200.0  180.0  200.0  200.0   \n",
              "1      Inglês                1.0  160.0  120.0  200.0  200.0  200.0   \n",
              "2    Espanhol                1.0   80.0  160.0  120.0  100.0  100.0   \n",
              "3      Inglês                1.0  120.0  120.0  120.0  120.0   80.0   \n",
              "4      Inglês                1.0  160.0  200.0  180.0  180.0  160.0   \n",
              "..        ...                ...    ...    ...    ...    ...    ...   \n",
              "95     Inglês                1.0  160.0  180.0  180.0  180.0  160.0   \n",
              "96     Inglês                1.0  140.0  120.0  120.0  120.0  100.0   \n",
              "97     Inglês                1.0  120.0  160.0  160.0  140.0  120.0   \n",
              "98   Espanhol                1.0  120.0  160.0  160.0  120.0  200.0   \n",
              "99   Espanhol                1.0  120.0  120.0  120.0  120.0  140.0   \n",
              "\n",
              "    NOTA_REDACAO INTERNET  \n",
              "0          940.0      Sim  \n",
              "1          880.0      Não  \n",
              "2          560.0      Sim  \n",
              "3          560.0      Sim  \n",
              "4          880.0      Sim  \n",
              "..           ...      ...  \n",
              "95         860.0      Sim  \n",
              "96         600.0      Sim  \n",
              "97         700.0      Sim  \n",
              "98         760.0      Sim  \n",
              "99         620.0      Sim  \n",
              "\n",
              "[100 rows x 28 columns]"
            ],
            "text/html": [
              "\n",
              "  <div id=\"df-f59768de-6c65-465d-8c99-67c1a8dc2fcc\" class=\"colab-df-container\">\n",
              "    <div>\n",
              "<style scoped>\n",
              "    .dataframe tbody tr th:only-of-type {\n",
              "        vertical-align: middle;\n",
              "    }\n",
              "\n",
              "    .dataframe tbody tr th {\n",
              "        vertical-align: top;\n",
              "    }\n",
              "\n",
              "    .dataframe thead th {\n",
              "        text-align: right;\n",
              "    }\n",
              "</style>\n",
              "<table border=\"1\" class=\"dataframe\">\n",
              "  <thead>\n",
              "    <tr style=\"text-align: right;\">\n",
              "      <th></th>\n",
              "      <th>NU_INSCRICAO</th>\n",
              "      <th>NO_MUNICIPIO_RESIDENCIA</th>\n",
              "      <th>IDADE</th>\n",
              "      <th>SEXO</th>\n",
              "      <th>TP_ESTADO_CIVIL</th>\n",
              "      <th>RACA</th>\n",
              "      <th>TP_NACIONALIDADE</th>\n",
              "      <th>TP_ST_CONCLUSAO</th>\n",
              "      <th>ESCOLA</th>\n",
              "      <th>CO_ESCOLA</th>\n",
              "      <th>...</th>\n",
              "      <th>NOTA_MT</th>\n",
              "      <th>TP_LINGUA</th>\n",
              "      <th>TP_STATUS_REDACAO</th>\n",
              "      <th>COMP1</th>\n",
              "      <th>COMP2</th>\n",
              "      <th>COMP3</th>\n",
              "      <th>COMP4</th>\n",
              "      <th>COMP5</th>\n",
              "      <th>NOTA_REDACAO</th>\n",
              "      <th>INTERNET</th>\n",
              "    </tr>\n",
              "  </thead>\n",
              "  <tbody>\n",
              "    <tr>\n",
              "      <th>0</th>\n",
              "      <td>1,90E+11</td>\n",
              "      <td>Santa Isabel</td>\n",
              "      <td>22</td>\n",
              "      <td>M</td>\n",
              "      <td>1</td>\n",
              "      <td>parda</td>\n",
              "      <td>1</td>\n",
              "      <td>1</td>\n",
              "      <td>não_respondeu</td>\n",
              "      <td>NaN</td>\n",
              "      <td>...</td>\n",
              "      <td>600.2</td>\n",
              "      <td>Inglês</td>\n",
              "      <td>1.0</td>\n",
              "      <td>160.0</td>\n",
              "      <td>200.0</td>\n",
              "      <td>180.0</td>\n",
              "      <td>200.0</td>\n",
              "      <td>200.0</td>\n",
              "      <td>940.0</td>\n",
              "      <td>Sim</td>\n",
              "    </tr>\n",
              "    <tr>\n",
              "      <th>1</th>\n",
              "      <td>1,90E+11</td>\n",
              "      <td>São Paulo</td>\n",
              "      <td>17</td>\n",
              "      <td>F</td>\n",
              "      <td>1</td>\n",
              "      <td>parda</td>\n",
              "      <td>1</td>\n",
              "      <td>2</td>\n",
              "      <td>privada</td>\n",
              "      <td>15567761.0</td>\n",
              "      <td>...</td>\n",
              "      <td>731.8</td>\n",
              "      <td>Inglês</td>\n",
              "      <td>1.0</td>\n",
              "      <td>160.0</td>\n",
              "      <td>120.0</td>\n",
              "      <td>200.0</td>\n",
              "      <td>200.0</td>\n",
              "      <td>200.0</td>\n",
              "      <td>880.0</td>\n",
              "      <td>Não</td>\n",
              "    </tr>\n",
              "    <tr>\n",
              "      <th>2</th>\n",
              "      <td>1,90E+11</td>\n",
              "      <td>São Bernardo do Campo</td>\n",
              "      <td>19</td>\n",
              "      <td>M</td>\n",
              "      <td>1</td>\n",
              "      <td>parda</td>\n",
              "      <td>1</td>\n",
              "      <td>2</td>\n",
              "      <td>pública</td>\n",
              "      <td>35904958.0</td>\n",
              "      <td>...</td>\n",
              "      <td>393.2</td>\n",
              "      <td>Espanhol</td>\n",
              "      <td>1.0</td>\n",
              "      <td>80.0</td>\n",
              "      <td>160.0</td>\n",
              "      <td>120.0</td>\n",
              "      <td>100.0</td>\n",
              "      <td>100.0</td>\n",
              "      <td>560.0</td>\n",
              "      <td>Sim</td>\n",
              "    </tr>\n",
              "    <tr>\n",
              "      <th>3</th>\n",
              "      <td>1,90E+11</td>\n",
              "      <td>Embu-Guaçu</td>\n",
              "      <td>17</td>\n",
              "      <td>F</td>\n",
              "      <td>1</td>\n",
              "      <td>parda</td>\n",
              "      <td>1</td>\n",
              "      <td>2</td>\n",
              "      <td>pública</td>\n",
              "      <td>NaN</td>\n",
              "      <td>...</td>\n",
              "      <td>419.2</td>\n",
              "      <td>Inglês</td>\n",
              "      <td>1.0</td>\n",
              "      <td>120.0</td>\n",
              "      <td>120.0</td>\n",
              "      <td>120.0</td>\n",
              "      <td>120.0</td>\n",
              "      <td>80.0</td>\n",
              "      <td>560.0</td>\n",
              "      <td>Sim</td>\n",
              "    </tr>\n",
              "    <tr>\n",
              "      <th>4</th>\n",
              "      <td>1,90E+11</td>\n",
              "      <td>Guarulhos</td>\n",
              "      <td>23</td>\n",
              "      <td>F</td>\n",
              "      <td>1</td>\n",
              "      <td>branca</td>\n",
              "      <td>1</td>\n",
              "      <td>1</td>\n",
              "      <td>não_respondeu</td>\n",
              "      <td>NaN</td>\n",
              "      <td>...</td>\n",
              "      <td>796.1</td>\n",
              "      <td>Inglês</td>\n",
              "      <td>1.0</td>\n",
              "      <td>160.0</td>\n",
              "      <td>200.0</td>\n",
              "      <td>180.0</td>\n",
              "      <td>180.0</td>\n",
              "      <td>160.0</td>\n",
              "      <td>880.0</td>\n",
              "      <td>Sim</td>\n",
              "    </tr>\n",
              "    <tr>\n",
              "      <th>...</th>\n",
              "      <td>...</td>\n",
              "      <td>...</td>\n",
              "      <td>...</td>\n",
              "      <td>...</td>\n",
              "      <td>...</td>\n",
              "      <td>...</td>\n",
              "      <td>...</td>\n",
              "      <td>...</td>\n",
              "      <td>...</td>\n",
              "      <td>...</td>\n",
              "      <td>...</td>\n",
              "      <td>...</td>\n",
              "      <td>...</td>\n",
              "      <td>...</td>\n",
              "      <td>...</td>\n",
              "      <td>...</td>\n",
              "      <td>...</td>\n",
              "      <td>...</td>\n",
              "      <td>...</td>\n",
              "      <td>...</td>\n",
              "      <td>...</td>\n",
              "    </tr>\n",
              "    <tr>\n",
              "      <th>95</th>\n",
              "      <td>1,90E+11</td>\n",
              "      <td>Ribeirão Preto</td>\n",
              "      <td>19</td>\n",
              "      <td>M</td>\n",
              "      <td>1</td>\n",
              "      <td>branca</td>\n",
              "      <td>1</td>\n",
              "      <td>1</td>\n",
              "      <td>não_respondeu</td>\n",
              "      <td>NaN</td>\n",
              "      <td>...</td>\n",
              "      <td>824.9</td>\n",
              "      <td>Inglês</td>\n",
              "      <td>1.0</td>\n",
              "      <td>160.0</td>\n",
              "      <td>180.0</td>\n",
              "      <td>180.0</td>\n",
              "      <td>180.0</td>\n",
              "      <td>160.0</td>\n",
              "      <td>860.0</td>\n",
              "      <td>Sim</td>\n",
              "    </tr>\n",
              "    <tr>\n",
              "      <th>96</th>\n",
              "      <td>1,90E+11</td>\n",
              "      <td>Cruzeiro</td>\n",
              "      <td>20</td>\n",
              "      <td>F</td>\n",
              "      <td>1</td>\n",
              "      <td>preta</td>\n",
              "      <td>1</td>\n",
              "      <td>1</td>\n",
              "      <td>não_respondeu</td>\n",
              "      <td>NaN</td>\n",
              "      <td>...</td>\n",
              "      <td>692.6</td>\n",
              "      <td>Inglês</td>\n",
              "      <td>1.0</td>\n",
              "      <td>140.0</td>\n",
              "      <td>120.0</td>\n",
              "      <td>120.0</td>\n",
              "      <td>120.0</td>\n",
              "      <td>100.0</td>\n",
              "      <td>600.0</td>\n",
              "      <td>Sim</td>\n",
              "    </tr>\n",
              "    <tr>\n",
              "      <th>97</th>\n",
              "      <td>1,90E+11</td>\n",
              "      <td>Luís Antônio</td>\n",
              "      <td>18</td>\n",
              "      <td>F</td>\n",
              "      <td>1</td>\n",
              "      <td>branca</td>\n",
              "      <td>1</td>\n",
              "      <td>1</td>\n",
              "      <td>não_respondeu</td>\n",
              "      <td>NaN</td>\n",
              "      <td>...</td>\n",
              "      <td>648.7</td>\n",
              "      <td>Inglês</td>\n",
              "      <td>1.0</td>\n",
              "      <td>120.0</td>\n",
              "      <td>160.0</td>\n",
              "      <td>160.0</td>\n",
              "      <td>140.0</td>\n",
              "      <td>120.0</td>\n",
              "      <td>700.0</td>\n",
              "      <td>Sim</td>\n",
              "    </tr>\n",
              "    <tr>\n",
              "      <th>98</th>\n",
              "      <td>1,90E+11</td>\n",
              "      <td>Barueri</td>\n",
              "      <td>25</td>\n",
              "      <td>F</td>\n",
              "      <td>1</td>\n",
              "      <td>preta</td>\n",
              "      <td>1</td>\n",
              "      <td>1</td>\n",
              "      <td>não_respondeu</td>\n",
              "      <td>NaN</td>\n",
              "      <td>...</td>\n",
              "      <td>36.8</td>\n",
              "      <td>Espanhol</td>\n",
              "      <td>1.0</td>\n",
              "      <td>120.0</td>\n",
              "      <td>160.0</td>\n",
              "      <td>160.0</td>\n",
              "      <td>120.0</td>\n",
              "      <td>200.0</td>\n",
              "      <td>760.0</td>\n",
              "      <td>Sim</td>\n",
              "    </tr>\n",
              "    <tr>\n",
              "      <th>99</th>\n",
              "      <td>1,90E+11</td>\n",
              "      <td>Jaboticabal</td>\n",
              "      <td>19</td>\n",
              "      <td>M</td>\n",
              "      <td>1</td>\n",
              "      <td>preta</td>\n",
              "      <td>1</td>\n",
              "      <td>1</td>\n",
              "      <td>não_respondeu</td>\n",
              "      <td>NaN</td>\n",
              "      <td>...</td>\n",
              "      <td>431.1</td>\n",
              "      <td>Espanhol</td>\n",
              "      <td>1.0</td>\n",
              "      <td>120.0</td>\n",
              "      <td>120.0</td>\n",
              "      <td>120.0</td>\n",
              "      <td>120.0</td>\n",
              "      <td>140.0</td>\n",
              "      <td>620.0</td>\n",
              "      <td>Sim</td>\n",
              "    </tr>\n",
              "  </tbody>\n",
              "</table>\n",
              "<p>100 rows × 28 columns</p>\n",
              "</div>\n",
              "    <div class=\"colab-df-buttons\">\n",
              "\n",
              "  <div class=\"colab-df-container\">\n",
              "    <button class=\"colab-df-convert\" onclick=\"convertToInteractive('df-f59768de-6c65-465d-8c99-67c1a8dc2fcc')\"\n",
              "            title=\"Convert this dataframe to an interactive table.\"\n",
              "            style=\"display:none;\">\n",
              "\n",
              "  <svg xmlns=\"http://www.w3.org/2000/svg\" height=\"24px\" viewBox=\"0 -960 960 960\">\n",
              "    <path d=\"M120-120v-720h720v720H120Zm60-500h600v-160H180v160Zm220 220h160v-160H400v160Zm0 220h160v-160H400v160ZM180-400h160v-160H180v160Zm440 0h160v-160H620v160ZM180-180h160v-160H180v160Zm440 0h160v-160H620v160Z\"/>\n",
              "  </svg>\n",
              "    </button>\n",
              "\n",
              "  <style>\n",
              "    .colab-df-container {\n",
              "      display:flex;\n",
              "      gap: 12px;\n",
              "    }\n",
              "\n",
              "    .colab-df-convert {\n",
              "      background-color: #E8F0FE;\n",
              "      border: none;\n",
              "      border-radius: 50%;\n",
              "      cursor: pointer;\n",
              "      display: none;\n",
              "      fill: #1967D2;\n",
              "      height: 32px;\n",
              "      padding: 0 0 0 0;\n",
              "      width: 32px;\n",
              "    }\n",
              "\n",
              "    .colab-df-convert:hover {\n",
              "      background-color: #E2EBFA;\n",
              "      box-shadow: 0px 1px 2px rgba(60, 64, 67, 0.3), 0px 1px 3px 1px rgba(60, 64, 67, 0.15);\n",
              "      fill: #174EA6;\n",
              "    }\n",
              "\n",
              "    .colab-df-buttons div {\n",
              "      margin-bottom: 4px;\n",
              "    }\n",
              "\n",
              "    [theme=dark] .colab-df-convert {\n",
              "      background-color: #3B4455;\n",
              "      fill: #D2E3FC;\n",
              "    }\n",
              "\n",
              "    [theme=dark] .colab-df-convert:hover {\n",
              "      background-color: #434B5C;\n",
              "      box-shadow: 0px 1px 3px 1px rgba(0, 0, 0, 0.15);\n",
              "      filter: drop-shadow(0px 1px 2px rgba(0, 0, 0, 0.3));\n",
              "      fill: #FFFFFF;\n",
              "    }\n",
              "  </style>\n",
              "\n",
              "    <script>\n",
              "      const buttonEl =\n",
              "        document.querySelector('#df-f59768de-6c65-465d-8c99-67c1a8dc2fcc button.colab-df-convert');\n",
              "      buttonEl.style.display =\n",
              "        google.colab.kernel.accessAllowed ? 'block' : 'none';\n",
              "\n",
              "      async function convertToInteractive(key) {\n",
              "        const element = document.querySelector('#df-f59768de-6c65-465d-8c99-67c1a8dc2fcc');\n",
              "        const dataTable =\n",
              "          await google.colab.kernel.invokeFunction('convertToInteractive',\n",
              "                                                    [key], {});\n",
              "        if (!dataTable) return;\n",
              "\n",
              "        const docLinkHtml = 'Like what you see? Visit the ' +\n",
              "          '<a target=\"_blank\" href=https://colab.research.google.com/notebooks/data_table.ipynb>data table notebook</a>'\n",
              "          + ' to learn more about interactive tables.';\n",
              "        element.innerHTML = '';\n",
              "        dataTable['output_type'] = 'display_data';\n",
              "        await google.colab.output.renderOutput(dataTable, element);\n",
              "        const docLink = document.createElement('div');\n",
              "        docLink.innerHTML = docLinkHtml;\n",
              "        element.appendChild(docLink);\n",
              "      }\n",
              "    </script>\n",
              "  </div>\n",
              "\n",
              "\n",
              "<div id=\"df-4ba4ab14-8cd8-42cb-854f-7a6cde8bad17\">\n",
              "  <button class=\"colab-df-quickchart\" onclick=\"quickchart('df-4ba4ab14-8cd8-42cb-854f-7a6cde8bad17')\"\n",
              "            title=\"Suggest charts\"\n",
              "            style=\"display:none;\">\n",
              "\n",
              "<svg xmlns=\"http://www.w3.org/2000/svg\" height=\"24px\"viewBox=\"0 0 24 24\"\n",
              "     width=\"24px\">\n",
              "    <g>\n",
              "        <path d=\"M19 3H5c-1.1 0-2 .9-2 2v14c0 1.1.9 2 2 2h14c1.1 0 2-.9 2-2V5c0-1.1-.9-2-2-2zM9 17H7v-7h2v7zm4 0h-2V7h2v10zm4 0h-2v-4h2v4z\"/>\n",
              "    </g>\n",
              "</svg>\n",
              "  </button>\n",
              "\n",
              "<style>\n",
              "  .colab-df-quickchart {\n",
              "      --bg-color: #E8F0FE;\n",
              "      --fill-color: #1967D2;\n",
              "      --hover-bg-color: #E2EBFA;\n",
              "      --hover-fill-color: #174EA6;\n",
              "      --disabled-fill-color: #AAA;\n",
              "      --disabled-bg-color: #DDD;\n",
              "  }\n",
              "\n",
              "  [theme=dark] .colab-df-quickchart {\n",
              "      --bg-color: #3B4455;\n",
              "      --fill-color: #D2E3FC;\n",
              "      --hover-bg-color: #434B5C;\n",
              "      --hover-fill-color: #FFFFFF;\n",
              "      --disabled-bg-color: #3B4455;\n",
              "      --disabled-fill-color: #666;\n",
              "  }\n",
              "\n",
              "  .colab-df-quickchart {\n",
              "    background-color: var(--bg-color);\n",
              "    border: none;\n",
              "    border-radius: 50%;\n",
              "    cursor: pointer;\n",
              "    display: none;\n",
              "    fill: var(--fill-color);\n",
              "    height: 32px;\n",
              "    padding: 0;\n",
              "    width: 32px;\n",
              "  }\n",
              "\n",
              "  .colab-df-quickchart:hover {\n",
              "    background-color: var(--hover-bg-color);\n",
              "    box-shadow: 0 1px 2px rgba(60, 64, 67, 0.3), 0 1px 3px 1px rgba(60, 64, 67, 0.15);\n",
              "    fill: var(--button-hover-fill-color);\n",
              "  }\n",
              "\n",
              "  .colab-df-quickchart-complete:disabled,\n",
              "  .colab-df-quickchart-complete:disabled:hover {\n",
              "    background-color: var(--disabled-bg-color);\n",
              "    fill: var(--disabled-fill-color);\n",
              "    box-shadow: none;\n",
              "  }\n",
              "\n",
              "  .colab-df-spinner {\n",
              "    border: 2px solid var(--fill-color);\n",
              "    border-color: transparent;\n",
              "    border-bottom-color: var(--fill-color);\n",
              "    animation:\n",
              "      spin 1s steps(1) infinite;\n",
              "  }\n",
              "\n",
              "  @keyframes spin {\n",
              "    0% {\n",
              "      border-color: transparent;\n",
              "      border-bottom-color: var(--fill-color);\n",
              "      border-left-color: var(--fill-color);\n",
              "    }\n",
              "    20% {\n",
              "      border-color: transparent;\n",
              "      border-left-color: var(--fill-color);\n",
              "      border-top-color: var(--fill-color);\n",
              "    }\n",
              "    30% {\n",
              "      border-color: transparent;\n",
              "      border-left-color: var(--fill-color);\n",
              "      border-top-color: var(--fill-color);\n",
              "      border-right-color: var(--fill-color);\n",
              "    }\n",
              "    40% {\n",
              "      border-color: transparent;\n",
              "      border-right-color: var(--fill-color);\n",
              "      border-top-color: var(--fill-color);\n",
              "    }\n",
              "    60% {\n",
              "      border-color: transparent;\n",
              "      border-right-color: var(--fill-color);\n",
              "    }\n",
              "    80% {\n",
              "      border-color: transparent;\n",
              "      border-right-color: var(--fill-color);\n",
              "      border-bottom-color: var(--fill-color);\n",
              "    }\n",
              "    90% {\n",
              "      border-color: transparent;\n",
              "      border-bottom-color: var(--fill-color);\n",
              "    }\n",
              "  }\n",
              "</style>\n",
              "\n",
              "  <script>\n",
              "    async function quickchart(key) {\n",
              "      const quickchartButtonEl =\n",
              "        document.querySelector('#' + key + ' button');\n",
              "      quickchartButtonEl.disabled = true;  // To prevent multiple clicks.\n",
              "      quickchartButtonEl.classList.add('colab-df-spinner');\n",
              "      try {\n",
              "        const charts = await google.colab.kernel.invokeFunction(\n",
              "            'suggestCharts', [key], {});\n",
              "      } catch (error) {\n",
              "        console.error('Error during call to suggestCharts:', error);\n",
              "      }\n",
              "      quickchartButtonEl.classList.remove('colab-df-spinner');\n",
              "      quickchartButtonEl.classList.add('colab-df-quickchart-complete');\n",
              "    }\n",
              "    (() => {\n",
              "      let quickchartButtonEl =\n",
              "        document.querySelector('#df-4ba4ab14-8cd8-42cb-854f-7a6cde8bad17 button');\n",
              "      quickchartButtonEl.style.display =\n",
              "        google.colab.kernel.accessAllowed ? 'block' : 'none';\n",
              "    })();\n",
              "  </script>\n",
              "</div>\n",
              "\n",
              "    </div>\n",
              "  </div>\n"
            ],
            "application/vnd.google.colaboratory.intrinsic+json": {
              "type": "dataframe",
              "variable_name": "enem_sp"
            }
          },
          "metadata": {},
          "execution_count": 24
        }
      ]
    },
    {
      "cell_type": "code",
      "source": [
        "from scipy.stats import binom #distribuição binomial"
      ],
      "metadata": {
        "id": "DuLlXo7HGmlz"
      },
      "execution_count": null,
      "outputs": []
    },
    {
      "cell_type": "code",
      "source": [
        "parda_enem = enem_sp.loc[enem_sp.RACA == 'parda']"
      ],
      "metadata": {
        "id": "fnIFn1YLmGOG"
      },
      "execution_count": 8,
      "outputs": []
    },
    {
      "cell_type": "code",
      "source": [
        "len(parda_enem)"
      ],
      "metadata": {
        "colab": {
          "base_uri": "https://localhost:8080/"
        },
        "id": "ploldGPJmfg-",
        "outputId": "4be6428e-0674-403d-f754-3acf98183449"
      },
      "execution_count": 9,
      "outputs": [
        {
          "output_type": "execute_result",
          "data": {
            "text/plain": [
              "151115"
            ]
          },
          "metadata": {},
          "execution_count": 9
        }
      ]
    },
    {
      "cell_type": "code",
      "source": [
        "probabilidade_parda = (len(parda_enem)/len(enem_sp))\n",
        "probabilidade_parda * 100"
      ],
      "metadata": {
        "colab": {
          "base_uri": "https://localhost:8080/"
        },
        "id": "7xlV2L1rmi7N",
        "outputId": "31651b04-f4f7-4c94-9cd5-6be62d6e2a73"
      },
      "execution_count": 13,
      "outputs": [
        {
          "output_type": "execute_result",
          "data": {
            "text/plain": [
              "30.226627195263433"
            ]
          },
          "metadata": {},
          "execution_count": 13
        }
      ]
    },
    {
      "cell_type": "code",
      "source": [
        "preta_enem = enem_sp.loc[enem_sp.RACA == 'preta']"
      ],
      "metadata": {
        "id": "28OqrGJ5muwN"
      },
      "execution_count": 14,
      "outputs": []
    },
    {
      "cell_type": "code",
      "source": [
        "len(preta_enem)"
      ],
      "metadata": {
        "colab": {
          "base_uri": "https://localhost:8080/"
        },
        "id": "6mFHRC7MmxX8",
        "outputId": "b1ee191b-ca14-4332-8c81-2f41f554a922"
      },
      "execution_count": 15,
      "outputs": [
        {
          "output_type": "execute_result",
          "data": {
            "text/plain": [
              "51095"
            ]
          },
          "metadata": {},
          "execution_count": 15
        }
      ]
    },
    {
      "cell_type": "code",
      "source": [
        "probabilidade_preta = (len(preta_enem)/len(enem_sp))\n",
        "probabilidade_preta * 100"
      ],
      "metadata": {
        "colab": {
          "base_uri": "https://localhost:8080/"
        },
        "id": "CWBL26D8m1b9",
        "outputId": "952388c2-9635-4672-ec5f-e78a6095067f"
      },
      "execution_count": 16,
      "outputs": [
        {
          "output_type": "execute_result",
          "data": {
            "text/plain": [
              "10.22022642717126"
            ]
          },
          "metadata": {},
          "execution_count": 16
        }
      ]
    },
    {
      "cell_type": "code",
      "source": [
        "branca_enem = enem_sp.loc[enem_sp.RACA == 'branca']"
      ],
      "metadata": {
        "id": "LPzXgG7Hm-Wt"
      },
      "execution_count": 17,
      "outputs": []
    },
    {
      "cell_type": "code",
      "source": [
        "len(branca_enem)"
      ],
      "metadata": {
        "colab": {
          "base_uri": "https://localhost:8080/"
        },
        "id": "rViC8InjnCD9",
        "outputId": "0e02b003-86c9-48a1-b272-75d1575fcb36"
      },
      "execution_count": 18,
      "outputs": [
        {
          "output_type": "execute_result",
          "data": {
            "text/plain": [
              "276919"
            ]
          },
          "metadata": {},
          "execution_count": 18
        }
      ]
    },
    {
      "cell_type": "code",
      "source": [
        "probabilidade_branca = (len(branca_enem)/len(enem_sp))\n",
        "probabilidade_branca * 100"
      ],
      "metadata": {
        "colab": {
          "base_uri": "https://localhost:8080/"
        },
        "id": "ZtXcRn0dnEjG",
        "outputId": "7a18b8cb-78d9-4c89-c41e-439d20506c4b"
      },
      "execution_count": 19,
      "outputs": [
        {
          "output_type": "execute_result",
          "data": {
            "text/plain": [
              "55.390446853622436"
            ]
          },
          "metadata": {},
          "execution_count": 19
        }
      ]
    },
    {
      "cell_type": "code",
      "source": [
        "ND_enem = enem_sp.loc[enem_sp.RACA == 'nao_declarado']"
      ],
      "metadata": {
        "id": "NINwB-7tnLIG"
      },
      "execution_count": 21,
      "outputs": []
    },
    {
      "cell_type": "code",
      "source": [
        "len(ND_enem)"
      ],
      "metadata": {
        "colab": {
          "base_uri": "https://localhost:8080/"
        },
        "id": "hta49P6pnSJF",
        "outputId": "50d490e8-ffd7-48db-827d-737db8a78e0c"
      },
      "execution_count": 22,
      "outputs": [
        {
          "output_type": "execute_result",
          "data": {
            "text/plain": [
              "7300"
            ]
          },
          "metadata": {},
          "execution_count": 22
        }
      ]
    },
    {
      "cell_type": "code",
      "source": [
        "probabilidade_ND = (len(ND_enem)/len(enem_sp))\n",
        "probabilidade_ND * 100"
      ],
      "metadata": {
        "colab": {
          "base_uri": "https://localhost:8080/"
        },
        "id": "MKeiaU5vnTrE",
        "outputId": "e49ffcb4-59c3-4764-9690-a043d13ccd02"
      },
      "execution_count": 23,
      "outputs": [
        {
          "output_type": "execute_result",
          "data": {
            "text/plain": [
              "1.460175221026523"
            ]
          },
          "metadata": {},
          "execution_count": 23
        }
      ]
    },
    {
      "cell_type": "code",
      "source": [
        "import matplotlib.pyplot as plt\n",
        "dados_raça = enem_sp['RACA'].value_counts()\n",
        "plt.pie(dados_raça, labels=dados_raça.index, autopct='%1.1f%%')\n",
        "plt.title('Distribuição de Raça')\n",
        "plt.axis('equal')\n",
        "plt.show()"
      ],
      "metadata": {
        "colab": {
          "base_uri": "https://localhost:8080/",
          "height": 428
        },
        "id": "4leYS964njCU",
        "outputId": "c8568a5f-3c73-4a11-c4eb-1eaedb06b164"
      },
      "execution_count": 29,
      "outputs": [
        {
          "output_type": "display_data",
          "data": {
            "text/plain": [
              "<Figure size 640x480 with 1 Axes>"
            ],
            "image/png": "[encoded data removed]"
          },
          "metadata": {}
        }
      ]
    },
    {
      "cell_type": "code",
      "source": [
        "mulher_enem = enem_sp.loc[enem_sp.SEXO == 'F']"
      ],
      "metadata": {
        "id": "vO34HjJdH7sj"
      },
      "execution_count": null,
      "outputs": []
    },
    {
      "cell_type": "code",
      "source": [
        "len(mulher_enem)"
      ],
      "metadata": {
        "colab": {
          "base_uri": "https://localhost:8080/"
        },
        "id": "_kwO0vbXINcG",
        "outputId": "c4c9c3b5-68e2-4215-b392-4fdae559a9c5"
      },
      "execution_count": null,
      "outputs": [
        {
          "output_type": "execute_result",
          "data": {
            "text/plain": [
              "290122"
            ]
          },
          "metadata": {},
          "execution_count": 34
        }
      ]
    },
    {
      "cell_type": "code",
      "source": [
        "probabilidade_mulher = (len(mulher_enem)/len(enem_sp))"
      ],
      "metadata": {
        "id": "kCXoXWvSIwC3"
      },
      "execution_count": null,
      "outputs": []
    },
    {
      "cell_type": "code",
      "source": [
        "probabilidade_mulher\n"
      ],
      "metadata": {
        "colab": {
          "base_uri": "https://localhost:8080/"
        },
        "id": "hMThwW3wIznx",
        "outputId": "39df4772-94c9-4a27-a96b-cc8e56a9a3f1"
      },
      "execution_count": null,
      "outputs": [
        {
          "output_type": "execute_result",
          "data": {
            "text/plain": [
              "0.5803136376365163"
            ]
          },
          "metadata": {},
          "execution_count": 38
        }
      ]
    },
    {
      "cell_type": "code",
      "source": [
        "import matplotlib.pyplot as plt\n",
        "\n",
        "enem_redacao = enem_sp['NOTA_REDACAO']\n",
        "\n",
        "# Criando o histograma\n",
        "plt.figure(figsize=(8, 5))\n",
        "n, bins, patches = plt.hist(enem_redacao, bins=20, edgecolor='black', alpha=0.7)\n",
        "\n",
        "# Adicionando os números de frequência acima das barras\n",
        "for patch, freq in zip(patches, n):\n",
        "    plt.text(patch.get_x() + patch.get_width() / 2, freq, int(freq),\n",
        "             ha='center', va='bottom', fontsize=10, color='black')\n",
        "\n",
        "# Personalizando o gráfico\n",
        "plt.title('Histograma da Nota da Redação')\n",
        "plt.xlabel('Nota da Redação')\n",
        "plt.ylabel('Frequência')\n",
        "plt.show()\n"
      ],
      "metadata": {
        "colab": {
          "base_uri": "https://localhost:8080/",
          "height": 487
        },
        "id": "xj2m79Pbquxt",
        "outputId": "314650ae-1f98-4570-870a-b4f694dd6c1f"
      },
      "execution_count": 42,
      "outputs": [
        {
          "output_type": "display_data",
          "data": {
            "text/plain": [
              "<Figure size 800x500 with 1 Axes>"
            ],
            "image/png": "[encoded data removed]"
          },
          "metadata": {}
        }
      ]
    },
    {
      "cell_type": "code",
      "source": [
        "redação_dados = enem_sp.loc[enem_sp.NOTA_REDACAO == 1000]\n",
        "\n",
        "total = len(redação_dados) / len(enem_sp)\n",
        "total * 100"
      ],
      "metadata": {
        "colab": {
          "base_uri": "https://localhost:8080/"
        },
        "id": "oqA0A9pEs-_U",
        "outputId": "b5456de6-3303-4c3c-c07a-953cb1a026c8"
      },
      "execution_count": 59,
      "outputs": [
        {
          "output_type": "execute_result",
          "data": {
            "text/plain": [
              "0.0010001200144017282"
            ]
          },
          "metadata": {},
          "execution_count": 59
        }
      ]
    },
    {
      "cell_type": "markdown",
      "source": [],
      "metadata": {
        "id": "p07L8Z-jl1IG"
      }
    },
    {
      "cell_type": "markdown",
      "source": [
        "binom.pmf = valor pontual\n",
        "binom.cdf = faixa de valores(acumulada)"
      ],
      "metadata": {
        "id": "U5oVcr0-I9b0"
      }
    },
    {
      "cell_type": "code",
      "source": [
        "binom.pmf(4, 10, probabilidade_mulher) * 100 #exatamente o valor\n",
        "#primeiro - valor ou limite\n",
        "#segundo - numero de tentativas\n",
        "#terceiro - probabilidade de sucesso"
      ],
      "metadata": {
        "colab": {
          "base_uri": "https://localhost:8080/"
        },
        "id": "APnbvODPJFkC",
        "outputId": "675e3e2c-175c-489b-b559-6a2154be4932"
      },
      "execution_count": null,
      "outputs": [
        {
          "output_type": "execute_result",
          "data": {
            "text/plain": [
              "np.float64(0.0)"
            ]
          },
          "metadata": {},
          "execution_count": 69
        }
      ]
    },
    {
      "cell_type": "code",
      "source": [
        "binom.cdf(4, 10, probabilidade_mulher) * 100 #até o valor\n",
        "#primeiro - valor ou limite\n",
        "#segundo - numero de tentativas\n",
        "#terceiro - probabilidade de sucesso"
      ],
      "metadata": {
        "colab": {
          "base_uri": "https://localhost:8080/"
        },
        "id": "Es5S7893Jejv",
        "outputId": "69fa8a39-950b-420c-bde4-851213de309d"
      },
      "execution_count": null,
      "outputs": [
        {
          "output_type": "execute_result",
          "data": {
            "text/plain": [
              "np.float64(20.102515120213756)"
            ]
          },
          "metadata": {},
          "execution_count": 42
        }
      ]
    },
    {
      "cell_type": "code",
      "source": [
        "#distribução geométrica\n",
        "from scipy.stats import geom"
      ],
      "metadata": {
        "id": "xIh0_wDVJ8_P"
      },
      "execution_count": null,
      "outputs": []
    },
    {
      "cell_type": "code",
      "source": [
        "geom.pmf(4, probabilidade_mulher)\n",
        "#tirar mulher na quarta tentativa,"
      ],
      "metadata": {
        "colab": {
          "base_uri": "https://localhost:8080/"
        },
        "id": "1m-m_rwXMTDo",
        "outputId": "b9851a6d-b7aa-4e1c-8cd4-5059f30a4dd2"
      },
      "execution_count": null,
      "outputs": [
        {
          "output_type": "execute_result",
          "data": {
            "text/plain": [
              "np.float64(0.042898029955685306)"
            ]
          },
          "metadata": {},
          "execution_count": 44
        }
      ]
    },
    {
      "cell_type": "markdown",
      "source": [
        "#Distribuição de Poisson"
      ],
      "metadata": {
        "id": "769RsuLdMmr9"
      }
    },
    {
      "cell_type": "code",
      "source": [
        "from scipy.stats import poisson"
      ],
      "metadata": {
        "id": "d0iGL4rvMsnK"
      },
      "execution_count": null,
      "outputs": []
    },
    {
      "cell_type": "code",
      "source": [
        "#poisson.pmf(x, m) #x é a quantidade de ocorrencias & m é a taxa de ocorrencias\n",
        "poisson.pmf(2, 5) * 100 #exatamente duas"
      ],
      "metadata": {
        "colab": {
          "base_uri": "https://localhost:8080/"
        },
        "id": "2-jr8DeNM0ia",
        "outputId": "2e44d41b-0022-4096-c7f5-07530574c795"
      },
      "execution_count": null,
      "outputs": [
        {
          "output_type": "execute_result",
          "data": {
            "text/plain": [
              "np.float64(8.422433748856832)"
            ]
          },
          "metadata": {},
          "execution_count": 48
        }
      ]
    },
    {
      "cell_type": "code",
      "source": [
        "poisson.cdf(2, 5) * 100 #até duas,então [0, 1 , 2]\n"
      ],
      "metadata": {
        "colab": {
          "base_uri": "https://localhost:8080/"
        },
        "id": "ImZ-m6JjNHqO",
        "outputId": "ab807b40-613b-40f4-8b0a-5a8c2ab38831"
      },
      "execution_count": null,
      "outputs": [
        {
          "output_type": "execute_result",
          "data": {
            "text/plain": [
              "np.float64(12.465201948308108)"
            ]
          },
          "metadata": {},
          "execution_count": 49
        }
      ]
    },
    {
      "cell_type": "markdown",
      "source": [
        "#Distribuição continua\n"
      ],
      "metadata": {
        "id": "DlWfJOI0Nce1"
      }
    },
    {
      "cell_type": "code",
      "source": [
        "from scipy.stats import norm"
      ],
      "metadata": {
        "id": "HmYUKtKVNetW"
      },
      "execution_count": null,
      "outputs": []
    },
    {
      "cell_type": "markdown",
      "source": [
        "exercicio da aula 5 de peças que podem ser utilizadas por 4.8 anos, qual a probabilidade de trocar de peça com menos de 4.5 anos com o desvio padrão de 0.5"
      ],
      "metadata": {
        "id": "BSYOLKtgN7_1"
      }
    },
    {
      "cell_type": "code",
      "source": [
        "norm.cdf(4.5, loc=4.8, scale=0.5) * 100"
      ],
      "metadata": {
        "colab": {
          "base_uri": "https://localhost:8080/"
        },
        "id": "nziPn1c_NsGj",
        "outputId": "c96f0934-a1bb-405a-84f3-aab4e901a877"
      },
      "execution_count": null,
      "outputs": [
        {
          "output_type": "execute_result",
          "data": {
            "text/plain": [
              "np.float64(27.425311775007366)"
            ]
          },
          "metadata": {},
          "execution_count": 52
        }
      ]
    },
    {
      "cell_type": "code",
      "source": [
        "\n",
        "norm.cdf(17, loc=enem_sp.IDADE.mean(), scale=enem_sp.IDADE.std()) * 100 #puxar alguém com ate 17 anos"
      ],
      "metadata": {
        "colab": {
          "base_uri": "https://localhost:8080/"
        },
        "id": "4zeQLYBGOPnj",
        "outputId": "5fb1e06d-9d6b-4408-ac38-b28e16dc895f"
      },
      "execution_count": null,
      "outputs": [
        {
          "output_type": "execute_result",
          "data": {
            "text/plain": [
              "np.float64(28.917493520708703)"
            ]
          },
          "metadata": {},
          "execution_count": 56
        }
      ]
    },
    {
      "cell_type": "code",
      "source": [
        "idade_50 = 1 - norm.cdf(50, loc=enem_sp.IDADE.mean(), scale=enem_sp.IDADE.std())  #puxar alguém com ate 50 anos\n",
        "idade_50"
      ],
      "metadata": {
        "colab": {
          "base_uri": "https://localhost:8080/"
        },
        "id": "KnyJTRpUOvCA",
        "outputId": "4cb88997-e9c8-41b7-d76c-5f73fe8ee85f"
      },
      "execution_count": null,
      "outputs": [
        {
          "output_type": "execute_result",
          "data": {
            "text/plain": [
              "np.float64(2.702999116643845e-06)"
            ]
          },
          "metadata": {},
          "execution_count": 62
        }
      ]
    },
    {
      "cell_type": "code",
      "source": [
        "entre_20_30 = norm.cdf(30, loc=enem_sp.IDADE.mean(), scale=enem_sp.IDADE.std()) - norm.cdf(20, loc=enem_sp.IDADE.mean(), scale=enem_sp.IDADE.std())\n",
        "entre_20_30 * 100"
      ],
      "metadata": {
        "colab": {
          "base_uri": "https://localhost:8080/"
        },
        "id": "wWcUVt8ZPb9c",
        "outputId": "9951fe69-02f4-49e6-a656-e29eb549d0c3"
      },
      "execution_count": null,
      "outputs": [
        {
          "output_type": "execute_result",
          "data": {
            "text/plain": [
              "np.float64(46.3720862577787)"
            ]
          },
          "metadata": {},
          "execution_count": 66
        }
      ]
    }
  ]
}